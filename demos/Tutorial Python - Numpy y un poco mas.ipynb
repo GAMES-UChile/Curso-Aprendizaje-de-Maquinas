{
 "cells": [
  {
   "cell_type": "markdown",
   "metadata": {},
   "source": [
    "### **MA5204: Aprendizaje de Máquinas**\n",
    "\n",
    "**Departamento de Ingeniería Matemática, Universidad de Chile**\n",
    "\n",
    "**Profesor:** Felipe Tobar\n",
    "\n",
    "**Ayudantes:** Alejandro Cuevas, Mauricio Araneda, Mauricio Romero"
   ]
  },
  {
   "cell_type": "markdown",
   "metadata": {},
   "source": [
    "\n",
    "## Tutorial 1: Introducción a programación Científica usando Python\n",
    "### Autor: Mauricio Araneda\n"
   ]
  },
  {
   "cell_type": "markdown",
   "metadata": {},
   "source": [
    "## 1) ¿Qué es Jupyter Notebook?"
   ]
  },
  {
   "cell_type": "markdown",
   "metadata": {},
   "source": [
    "Es una herramienta típica en computación científica. Nos permite generar múltiples \"ambientes\" en donde correr nuestros programas, permitiéndonos conocer el output de cada bloque de código que ejecutemos, además de poder dejar anotaciones a modo de informe en bloques de información"
   ]
  },
  {
   "cell_type": "markdown",
   "metadata": {},
   "source": [
    "¿Cómo instalar Jupyter Notebook?\n",
    "\n",
    "- Descargar Anaconda (Python 3.x !!!)\n",
    "- Instalar según instrucciones Anaconda\n",
    "- Listo, ya puedes usar Jupyter!\n",
    "\n",
    "¿Cómo usar Jupyter Notebook?\n",
    "\n",
    "Desde el terminal (Linux/Mac) o cmd (Windows): \"jupyter notebook\""
   ]
  },
  {
   "cell_type": "markdown",
   "metadata": {
    "colab_type": "text",
    "id": "gKQnSyZA4Fii"
   },
   "source": [
    "## 2) Numpy"
   ]
  },
  {
   "cell_type": "markdown",
   "metadata": {
    "colab_type": "text",
    "id": "Aq6N7Li14Fim"
   },
   "source": [
    "NumPy (Numerical Python) es el módulo fundamental para la computación científica en Python, según [Numpy](http://www.numpy.org/). Este módulo contiene operaciones de alto rendimiento en algebra lineal, transformada de Fourier y cálculo de valores aleatorios. Permite el manejo eficiente de arreglos multi-dimensionales y se integra con C/C++ y Fortran.\n",
    "\n",
    "Su uso se ha vuelto un estándar en computación científica, en particular en ciencia de datos y machine learning, su uso es similar a otras herramientas matemáticas como MATLAB. Se importa usando la sintaxis:"
   ]
  },
  {
   "cell_type": "code",
   "execution_count": 16,
   "metadata": {
    "colab": {},
    "colab_type": "code",
    "id": "itK0rq9s4Fip"
   },
   "outputs": [],
   "source": [
    "# importar módulos\n",
    "import numpy as np\n",
    "# \" as np \" es opcional pero se usa como regla estandar."
   ]
  },
  {
   "cell_type": "markdown",
   "metadata": {
    "colab_type": "text",
    "id": "qSCeTd0p4Fi2"
   },
   "source": [
    "En particular nos interesa de NumPy el manejo de arreglos y matrices que contiene, así que revisaremos como utilizarlos."
   ]
  },
  {
   "cell_type": "code",
   "execution_count": 17,
   "metadata": {
    "colab": {
     "base_uri": "https://localhost:8080/",
     "height": 237
    },
    "colab_type": "code",
    "id": "xbPbCCen4Fi6",
    "outputId": "fc8fa67f-b3ed-4c3e-e3bc-63ee1a513065"
   },
   "outputs": [
    {
     "name": "stdout",
     "output_type": "stream",
     "text": [
      "Arreglo de tamaño 10:\n",
      " [0. 0. 0. 0. 0. 0. 0. 0. 0. 0.] \n",
      "\n",
      "Arreglo de tamaño [5,5]:\n",
      " [[1. 1. 1. 1. 1.]\n",
      " [1. 1. 1. 1. 1.]\n",
      " [1. 1. 1. 1. 1.]\n",
      " [1. 1. 1. 1. 1.]\n",
      " [1. 1. 1. 1. 1.]] \n",
      "\n",
      "Antes de convertir <class 'list'>\n",
      "Después de convertir <class 'numpy.ndarray'>\n"
     ]
    }
   ],
   "source": [
    "# Arreglo de \"ceros\", de largo 10\n",
    "a = np.zeros(10)\n",
    "\n",
    "# Arreglo de \"unos\", de forma [5,5]\n",
    "b = np.ones([5,5])\n",
    "\n",
    "print(\"Arreglo de tamaño 10:\\n\",a,\"\\n\")\n",
    "print(\"Arreglo de tamaño [5,5]:\\n\",b,\"\\n\")\n",
    "\n",
    "# Convertir de lista de python a numpy array\n",
    "c = [1, 10, 100, 1000]\n",
    "print('Antes de convertir', type(c)) # muestra el tipo de dato\n",
    "c = np.array(c)\n",
    "print('Después de convertir', type(c)) # muestra el tipo de dato\n",
    "\n"
   ]
  },
  {
   "cell_type": "code",
   "execution_count": 18,
   "metadata": {
    "colab": {
     "base_uri": "https://localhost:8080/",
     "height": 54
    },
    "colab_type": "code",
    "id": "WEkFVKdh5IiF",
    "outputId": "fa5ba737-6d08-4164-c657-c75ccf7c548f"
   },
   "outputs": [
    {
     "name": "stdout",
     "output_type": "stream",
     "text": [
      "[0 1 2 3 4 5 6 7 8 9]\n",
      "[ 1.  4.  7. 10.]\n"
     ]
    }
   ],
   "source": [
    "# Crear arreglos de valores consecutivos o en un intervalo\n",
    "\n",
    "a = np.arange(10)\n",
    "print(a)\n",
    "\n",
    "b = np.linspace(1, 10, 4)\n",
    "print(b)"
   ]
  },
  {
   "cell_type": "code",
   "execution_count": 19,
   "metadata": {
    "colab": {
     "base_uri": "https://localhost:8080/",
     "height": 237
    },
    "colab_type": "code",
    "id": "D5gx-btw4FjG",
    "outputId": "7e04176f-4161-434a-f522-29d63919f255",
    "scrolled": true
   },
   "outputs": [
    {
     "name": "stdout",
     "output_type": "stream",
     "text": [
      "Arreglo a:\n",
      " [ 4  5  6  7  8  9 10 11 12 13] \n",
      "\n",
      "Arreglo b:\n",
      " [ 2.  8. 14. 20.] \n",
      "\n",
      "Arreglo c:\n",
      " [5. 5. 5. 5.] \n",
      "\n",
      "Resultado:\n",
      " [ 10.  40.  70. 100.] \n",
      "\n"
     ]
    }
   ],
   "source": [
    "#Operaciones en Numpy\n",
    "\n",
    "#Las operaciones en Numpy son aplicadas elemento a elemento dentro de un arreglo\n",
    "\n",
    "#Sumar 4 a todos los elementos \n",
    "a = a + 4\n",
    "\n",
    "#Multiplicar por 2 todos los elementos\n",
    "b = b * 2\n",
    "\n",
    "#Crear un arreglo de la misma dimension que b, lleno de unos + multiplicar por 5\n",
    "c = np.ones_like(b) * 5 \n",
    "\n",
    "#Aplicar multiplicacion elemento a elemento entre los arreglos\n",
    "mult = b * c\n",
    "\n",
    "print(\"Arreglo a:\\n\",a,\"\\n\")\n",
    "print(\"Arreglo b:\\n\",b,\"\\n\")\n",
    "print(\"Arreglo c:\\n\",c,\"\\n\")\n",
    "print(\"Resultado:\\n\",mult,\"\\n\")"
   ]
  },
  {
   "cell_type": "code",
   "execution_count": 20,
   "metadata": {
    "colab": {
     "base_uri": "https://localhost:8080/",
     "height": 421
    },
    "colab_type": "code",
    "id": "VMjUwLsg4FjO",
    "outputId": "f3849a53-7388-47ff-8a00-e71b116db4c4"
   },
   "outputs": [
    {
     "name": "stdout",
     "output_type": "stream",
     "text": [
      "Resultado multiplicacion:\n",
      " [[ 50  60]\n",
      " [114 140]\n",
      " [178 220]] \n",
      "\n",
      "Alternativas: \n",
      "\n",
      "np.dot(a,b):\n",
      " [[ 50  60]\n",
      " [114 140]\n",
      " [178 220]] \n",
      "\n",
      "a.dot(b):\n",
      " [[ 50  60]\n",
      " [114 140]\n",
      " [178 220]] \n",
      "\n",
      "a @ b: \n",
      " [[ 50  60]\n",
      " [114 140]\n",
      " [178 220]] \n",
      "\n"
     ]
    }
   ],
   "source": [
    "# Dimensión de un arreglo\n",
    "\n",
    "# Multiplicación matricial \n",
    "a = np.array([[1,2,3,4],[5,6,7,8],[9,10,11,12]]) # Declaración de un arreglo 3x4\n",
    "b = np.array([[1,2],[3,4],[5,6],[7,8]]) # Declaración arreglo 4x2\n",
    "# b = np.arange(1, 9).reshape(4, 2)\n",
    "c = np.matmul(a,b) # Multiplicación matricial\n",
    "\n",
    "print(\"Resultado multiplicacion:\\n\",c,\"\\n\")\n",
    "\n",
    "# Comandos alternativos para multiplicar matrices\n",
    "print(\"Alternativas: \\n\")\n",
    "print(\"np.dot(a,b):\\n\", np.dot(a, b),\"\\n\")\n",
    "print(\"a.dot(b):\\n\", a.dot(b),\"\\n\")\n",
    "print(\"a @ b: \\n\", a @ b,\"\\n\")"
   ]
  },
  {
   "cell_type": "code",
   "execution_count": 21,
   "metadata": {
    "colab": {
     "base_uri": "https://localhost:8080/",
     "height": 35
    },
    "colab_type": "code",
    "id": "fR_yNLZN4FjU",
    "outputId": "20814461-4f0d-459e-8c39-d6f041019dac"
   },
   "outputs": [
    {
     "name": "stdout",
     "output_type": "stream",
     "text": [
      "Las dimensiones son respectivamente: (3, 4) (4, 2) (3, 2)\n"
     ]
    }
   ],
   "source": [
    "#Verifiquemos que las dimensiones son correctas\n",
    "\n",
    "dim_a = a.shape\n",
    "dim_b = b.shape\n",
    "dim_c = c.shape\n",
    "\n",
    "print(\"Las dimensiones son respectivamente:\",dim_a,dim_b,dim_c)"
   ]
  },
  {
   "cell_type": "code",
   "execution_count": 22,
   "metadata": {},
   "outputs": [
    {
     "name": "stdout",
     "output_type": "stream",
     "text": [
      "[[ 50  60]\n",
      " [114 140]\n",
      " [178 220]]\n"
     ]
    }
   ],
   "source": [
    "print(c)"
   ]
  },
  {
   "cell_type": "code",
   "execution_count": 23,
   "metadata": {},
   "outputs": [
    {
     "name": "stdout",
     "output_type": "stream",
     "text": [
      "[[  5   5]\n",
      " [114 140]\n",
      " [178 220]]\n"
     ]
    }
   ],
   "source": [
    "original[0] = 5\n",
    "print(original)"
   ]
  },
  {
   "cell_type": "code",
   "execution_count": 24,
   "metadata": {
    "colab": {
     "base_uri": "https://localhost:8080/",
     "height": 476
    },
    "colab_type": "code",
    "id": "5dW3Sf0n4Fjb",
    "outputId": "7c6d61a8-6c75-4dad-ae97-c15103563d32"
   },
   "outputs": [
    {
     "name": "stdout",
     "output_type": "stream",
     "text": [
      "Original:\n",
      " [[ 50  60]\n",
      " [114 140]\n",
      " [178 220]] \n",
      "\n",
      "M1:\n",
      " [[ 50  60 114 140 178 220]] \n",
      "\n",
      "M2:\n",
      " [[ 50]\n",
      " [ 60]\n",
      " [114]\n",
      " [140]\n",
      " [178]\n",
      " [220]] \n",
      "\n",
      "M3:\n",
      " [[ 50  60]\n",
      " [114 140]\n",
      " [178 220]] \n",
      "\n",
      "M4:\n",
      " [[ 50  60 114]\n",
      " [140 178 220]] \n",
      "\n"
     ]
    }
   ],
   "source": [
    "#Podemos jugar un poco más con las dimensiones\n",
    "\n",
    "#Aplicaciones de reshape [IMPORTANTE]\n",
    "original = c.copy()\n",
    "m1 = c.reshape(1,6)\n",
    "m2 = c.reshape(6,1)\n",
    "m3 = c.reshape(3,2)\n",
    "m4 = c.reshape(2,3)\n",
    "\n",
    "print(\"Original:\\n\", original, \"\\n\")\n",
    "print(\"M1:\\n\", m1, \"\\n\")\n",
    "print(\"M2:\\n\", m2, \"\\n\")\n",
    "print(\"M3:\\n\", m3, \"\\n\")\n",
    "print(\"M4:\\n\", m4, \"\\n\")"
   ]
  },
  {
   "cell_type": "code",
   "execution_count": 25,
   "metadata": {
    "colab": {
     "base_uri": "https://localhost:8080/",
     "height": 256
    },
    "colab_type": "code",
    "id": "2dqcYv2T4Fjl",
    "outputId": "b48ca1e5-d923-48c4-98b8-09f739523abe"
   },
   "outputs": [
    {
     "name": "stdout",
     "output_type": "stream",
     "text": [
      "Original:\n",
      " [[ 50  60]\n",
      " [114 140]\n",
      " [178 220]] \n",
      "\n",
      "Traspuesta de C:\n",
      " [[ 50 114 178]\n",
      " [ 60 140 220]] \n",
      "\n",
      "Reshape (2,3) de C:\n",
      " [[ 50  60 114]\n",
      " [140 178 220]] \n",
      "\n"
     ]
    }
   ],
   "source": [
    "#Notar que cambiar las dimensiones en el reshape es distinto de trasponer!!!\n",
    "\n",
    "#Trasponer una matriz\n",
    "M_t = c.T\n",
    "\n",
    "print(\"Original:\\n\", original, \"\\n\")\n",
    "print(\"Traspuesta de C:\\n\", M_t,\"\\n\")\n",
    "print(\"Reshape (2,3) de C:\\n\", c.reshape(2,3), \"\\n\")"
   ]
  },
  {
   "cell_type": "code",
   "execution_count": 26,
   "metadata": {
    "colab": {
     "base_uri": "https://localhost:8080/",
     "height": 54
    },
    "colab_type": "code",
    "id": "upLyS1YK4Fjy",
    "outputId": "fdc060fe-c982-49f2-9f4f-9dbc970f2eb9"
   },
   "outputs": [
    {
     "data": {
      "text/plain": [
       "array([[1, 2, 3],\n",
       "       [1, 1, 1]])"
      ]
     },
     "execution_count": 26,
     "metadata": {},
     "output_type": "execute_result"
    }
   ],
   "source": [
    "#Agregar elementos en una nueva dimension\n",
    "X = np.array([1,2,3])\n",
    "Y = np.ones_like(X)\n",
    "np.vstack([X,Y]) #Vertical stack: Se posiciona el arreglo de la izquierda por sobre el derecho"
   ]
  },
  {
   "cell_type": "code",
   "execution_count": 27,
   "metadata": {
    "colab": {
     "base_uri": "https://localhost:8080/",
     "height": 72
    },
    "colab_type": "code",
    "id": "Pz6c4UPo4Fj7",
    "outputId": "484b92c5-1a32-424f-c9c4-e427b99c75b5"
   },
   "outputs": [
    {
     "data": {
      "text/plain": [
       "array([[1, 1],\n",
       "       [2, 1],\n",
       "       [3, 1]])"
      ]
     },
     "execution_count": 27,
     "metadata": {},
     "output_type": "execute_result"
    }
   ],
   "source": [
    "#Usando esto podemos acomodar nuevos valores para aplicar regresion lineal\n",
    "Z = np.vstack([X,Y])\n",
    "Z.T"
   ]
  },
  {
   "cell_type": "code",
   "execution_count": 28,
   "metadata": {},
   "outputs": [
    {
     "data": {
      "text/plain": [
       "array([1, 2, 3, 1, 1, 1])"
      ]
     },
     "execution_count": 28,
     "metadata": {},
     "output_type": "execute_result"
    }
   ],
   "source": [
    "#Ademas existe hstack, que opera de manera similar a vstack pero de manera horizontal\n",
    "Z = np.hstack([X,Y])\n",
    "Z"
   ]
  },
  {
   "cell_type": "markdown",
   "metadata": {
    "colab_type": "text",
    "id": "-w61bLLJ4FkA"
   },
   "source": [
    "## 3) Elementos de Álgebra Lineal"
   ]
  },
  {
   "cell_type": "code",
   "execution_count": 29,
   "metadata": {
    "colab": {
     "base_uri": "https://localhost:8080/",
     "height": 219
    },
    "colab_type": "code",
    "id": "5eNnoccp4FkC",
    "outputId": "a2f6a5bd-dc8b-4511-ae0d-41b60c18757b"
   },
   "outputs": [
    {
     "name": "stdout",
     "output_type": "stream",
     "text": [
      "A:\n",
      " [[ 1 -2  2  2]\n",
      " [ 0  4 -2  1]\n",
      " [ 1 -2  4  0]\n",
      " [ 1 -1  2  2]] \n",
      "\n",
      "Inversa de A:\n",
      " [[ 12.    4.    3.  -14. ]\n",
      " [ -1.    0.    0.    1. ]\n",
      " [ -3.5  -1.   -0.5   4. ]\n",
      " [ -3.   -1.   -1.    4. ]]\n"
     ]
    }
   ],
   "source": [
    "#Inversa de una matriz\n",
    "\n",
    "A = np.array([[1, -2, 2, 2],[0, 4, -2, 1], [1, -2, 4, 0],[1, -1, 2, 2]])\n",
    "A_inv = np.linalg.inv(A)\n",
    "\n",
    "print(\"A:\\n\",A,\"\\n\")\n",
    "print(\"Inversa de A:\\n\",A_inv)"
   ]
  },
  {
   "cell_type": "code",
   "execution_count": 30,
   "metadata": {
    "colab": {
     "base_uri": "https://localhost:8080/",
     "height": 219
    },
    "colab_type": "code",
    "id": "fugSySl44FkI",
    "outputId": "9f09815e-386f-49e1-a552-6fb11447f727"
   },
   "outputs": [
    {
     "name": "stdout",
     "output_type": "stream",
     "text": [
      "I1:\n",
      " [[1. 0. 0. 0.]\n",
      " [0. 1. 0. 0.]\n",
      " [0. 0. 1. 0.]\n",
      " [0. 0. 0. 1.]] \n",
      "\n",
      "I2:\n",
      " [[1. 0. 0. 0.]\n",
      " [0. 1. 0. 0.]\n",
      " [0. 0. 1. 0.]\n",
      " [0. 0. 0. 1.]]\n"
     ]
    }
   ],
   "source": [
    "#Identidad matricial\n",
    "\n",
    "I1 = np.matmul(A,A_inv)\n",
    "I2 = np.eye(4) #Matriz identidad de dimension 4x4\n",
    "\n",
    "print(\"I1:\\n\", I1, \"\\n\")\n",
    "print(\"I2:\\n\", I2)"
   ]
  },
  {
   "cell_type": "code",
   "execution_count": 31,
   "metadata": {
    "colab": {
     "base_uri": "https://localhost:8080/",
     "height": 35
    },
    "colab_type": "code",
    "id": "N9wgRuFI4FkP",
    "outputId": "abab0632-bd96-4ebd-d861-d4785c61aa7d"
   },
   "outputs": [
    {
     "data": {
      "text/plain": [
       "19"
      ]
     },
     "execution_count": 31,
     "metadata": {},
     "output_type": "execute_result"
    }
   ],
   "source": [
    "#Producto punto\n",
    "\n",
    "A = np.array([4,0,3])\n",
    "B = np.array([1,3,5])\n",
    "\n",
    "np.dot(A,B)"
   ]
  },
  {
   "cell_type": "markdown",
   "metadata": {
    "colab_type": "text",
    "id": "u5MaDnd64FkW"
   },
   "source": [
    "## 4) Índices en NumPy"
   ]
  },
  {
   "cell_type": "code",
   "execution_count": 32,
   "metadata": {
    "colab": {
     "base_uri": "https://localhost:8080/",
     "height": 219
    },
    "colab_type": "code",
    "id": "cb7QA7r54FkY",
    "outputId": "ac91fa17-dcbd-443d-cb26-d2e9d942a447"
   },
   "outputs": [
    {
     "name": "stdout",
     "output_type": "stream",
     "text": [
      "A:\n",
      " [[ 1  2  3  4]\n",
      " [ 5  6  7  8]\n",
      " [ 9 10 11 12]] \n",
      "\n",
      "Fila 2:\n",
      " [ 9 10 11 12] \n",
      "\n",
      "Posicion 2,3:\n",
      " 12 \n",
      "\n"
     ]
    }
   ],
   "source": [
    "#Seleccion de elementos en arreglo\n",
    "a2 = a[2]\n",
    "a23 = a[2][3]\n",
    "\n",
    "print(\"A:\\n\", a, \"\\n\")\n",
    "print(\"Fila 2:\\n\", a2, \"\\n\")\n",
    "print(\"Posicion 2,3:\\n\", a23, \"\\n\")"
   ]
  },
  {
   "cell_type": "code",
   "execution_count": 33,
   "metadata": {
    "colab": {
     "base_uri": "https://localhost:8080/",
     "height": 127
    },
    "colab_type": "code",
    "id": "g9bJ01wo4Fki",
    "outputId": "167cc3f9-bc44-4cae-b437-f60461aa9025"
   },
   "outputs": [
    {
     "name": "stdout",
     "output_type": "stream",
     "text": [
      "Elementos pares:\n",
      " [ 2  4  6  8 10 12] \n",
      "\n",
      "Mayores que 3:\n",
      " [ 4  5  6  7  8  9 10 11 12] \n",
      "\n"
     ]
    }
   ],
   "source": [
    "#Es posible además aplicar selección sobre los elementos de un arreglo mediante condiciones\n",
    "a = np.array([[1, 2, 3, 4], [5, 6, 7, 8], [9, 10, 11, 12]])\n",
    "\n",
    "pares = a[a%2==0]\n",
    "mayor3 = a[a>3]\n",
    "print(\"Elementos pares:\\n\", pares,\"\\n\")\n",
    "print(\"Mayores que 3:\\n\", mayor3, \"\\n\")"
   ]
  },
  {
   "cell_type": "code",
   "execution_count": 34,
   "metadata": {},
   "outputs": [
    {
     "data": {
      "text/plain": [
       "array([1, 2, 3])"
      ]
     },
     "execution_count": 34,
     "metadata": {},
     "output_type": "execute_result"
    }
   ],
   "source": [
    "#Podemos seleccionar todos los elementos en una dimension con \":\"\n",
    "\n",
    "a = np.array([[1,2,3],[4,5,6]])\n",
    "a[0][:]"
   ]
  },
  {
   "cell_type": "code",
   "execution_count": 35,
   "metadata": {},
   "outputs": [
    {
     "data": {
      "text/plain": [
       "array([80, 81, 82, 83, 84, 85, 86, 87, 88, 89, 90, 91, 92, 93, 94, 95, 96,\n",
       "       97, 98, 99])"
      ]
     },
     "execution_count": 35,
     "metadata": {},
     "output_type": "execute_result"
    }
   ],
   "source": [
    "#Podemos seleccion los ultimos k elementos aprovechando los \":\"\n",
    "a = np.arange(100)\n",
    "\n",
    "#a[30:] #Lista a partir del elemento 30\n",
    "\n",
    "a[-20:] #Toma el largo del arreglo, le resta 20 y a partir de ahí lista en adelante\n"
   ]
  },
  {
   "cell_type": "markdown",
   "metadata": {
    "colab_type": "text",
    "id": "cjzsOFZN4Fkr"
   },
   "source": [
    "## 5) Bases de datos"
   ]
  },
  {
   "cell_type": "markdown",
   "metadata": {
    "colab_type": "text",
    "id": "ZZkFlMOs4Fkt"
   },
   "source": [
    "Dentro del área de aprendizaje de máquinas constantemente surge la necesidad de trabajar gran cantidad de datos, generalmente estos se procesan desde un CSV. En Numpy, el método genfromtxt() sirve para procesar esos datos y transformarlos automáticamente en arreglos. La dirección desde donde extrae el archivo puede ser tanto una dirección local como una URL. Más información [aquí](https://docs.scipy.org/doc/numpy/reference/generated/numpy.genfromtxt.html)\n",
    "\n",
    "El dataset utilizado en este ejemplo corresponde a los valores de salinidad y temperatura de aguas marinas medidas por el Centro Océanico de California durante el año 2016. Los datos corresponden a un dump de [este dataset](https://www.kaggle.com/sohier/calcofi/version/2). \n",
    "\n",
    "Con este dataset nos interesa responder: ¿Existe relación entre la salinidad del agua del mar y su temperatura?"
   ]
  },
  {
   "cell_type": "markdown",
   "metadata": {},
   "source": [
    "**SHIFT + TAB**"
   ]
  },
  {
   "cell_type": "code",
   "execution_count": null,
   "metadata": {},
   "outputs": [],
   "source": []
  },
  {
   "cell_type": "code",
   "execution_count": null,
   "metadata": {},
   "outputs": [],
   "source": []
  },
  {
   "cell_type": "code",
   "execution_count": null,
   "metadata": {},
   "outputs": [],
   "source": []
  },
  {
   "cell_type": "markdown",
   "metadata": {},
   "source": []
  },
  {
   "cell_type": "code",
   "execution_count": 36,
   "metadata": {
    "colab": {
     "base_uri": "https://localhost:8080/",
     "height": 598
    },
    "colab_type": "code",
    "id": "9yicv1et4Fkw",
    "outputId": "27eebdbb-29c9-4e95-d726-4a3c75a50ff1",
    "scrolled": true
   },
   "outputs": [
    {
     "name": "stdout",
     "output_type": "stream",
     "text": [
      "[[33.2625 18.603 ]\n",
      " [34.1471  7.962 ]\n",
      " [32.422  14.342 ]\n",
      " ...\n",
      " [34.2621  7.191 ]\n",
      " [33.1253 16.475 ]\n",
      " [33.8279 10.758 ]]\n"
     ]
    }
   ],
   "source": [
    "data = np.genfromtxt(\"http://users.dcc.uchile.cl/~maraneda/Aux_Aprendizaje/Aux1_Regresion/bottle_2016.csv\",\n",
    "                     delimiter=',',\n",
    "                     skip_header=1)\n",
    "print(data)"
   ]
  },
  {
   "cell_type": "code",
   "execution_count": 37,
   "metadata": {
    "colab": {},
    "colab_type": "code",
    "id": "mWGCBOS94Fk2"
   },
   "outputs": [],
   "source": [
    "#Extraemos la columna X que corresponde a la salinidad\n",
    "X = data[:, 0]\n",
    "#Extraemos la columna Y que corresponde a temperatura\n",
    "Y = data[:, 1]"
   ]
  },
  {
   "cell_type": "markdown",
   "metadata": {
    "colab_type": "text",
    "id": "cyR-6w8W4Fk8"
   },
   "source": [
    "## 6) Visualización usando Matplotlib"
   ]
  },
  {
   "cell_type": "markdown",
   "metadata": {
    "colab_type": "text",
    "id": "v0jaLGlf4Fk9"
   },
   "source": [
    "Al ya tener nuestro dataset es dificil hacerse una idea de qué patrones sigue, o bien, de como están distribuidos los valores en el espacio. Para solucionar esto usaremos Matplotlib, que es una librería ampliamente usada para visualización científica."
   ]
  },
  {
   "cell_type": "code",
   "execution_count": 38,
   "metadata": {
    "colab": {},
    "colab_type": "code",
    "id": "6ABrmxr74Fk_"
   },
   "outputs": [],
   "source": [
    "import matplotlib.pyplot as plt"
   ]
  },
  {
   "cell_type": "code",
   "execution_count": 39,
   "metadata": {
    "colab": {},
    "colab_type": "code",
    "id": "vnTJnvG74FlD",
    "outputId": "466779d9-8f66-4470-d812-d7e97aa215a9"
   },
   "outputs": [
    {
     "data": {
      "image/png": "[encoded data removed]",
      "text/plain": [
       "<Figure size 720x360 with 1 Axes>"
      ]
     },
     "metadata": {
      "needs_background": "light"
     },
     "output_type": "display_data"
    }
   ],
   "source": [
    "\n",
    "plt.figure(figsize=(10, 5)) # crea figura y detalla tamaño\n",
    "\n",
    "#Le pasamos los datos a plotear a matplotlib\n",
    "\n",
    "plt.plot(X,                     # Datos eje X\n",
    "         Y,                     # Datos eje y\n",
    "         c='b',                       # color\n",
    "         linestyle='',                 # tipo de linea (vacio es sin lineas)\n",
    "         marker='*',                  # marcador\n",
    "         ms=20,                       # tamaño de marcador\n",
    "         alpha=0.9,                   # transparencia\n",
    "         label=\"Datos entrenamiento\", # etiqueta leyenda\n",
    "        )\n",
    "\n",
    "#Etiquetas de los ejes [IMPORTANTE!!]\n",
    "plt.xlabel('Salinidad del agua')\n",
    "plt.ylabel('Temperatura')\n",
    "\n",
    "#Titulo del gráfico\n",
    "#plt.title(\"Salinidad v/s Temperatura\")\n",
    "\n",
    "\n",
    "plt.title(r\"Permite usar Latex, como: $\\phi_{12}^{n}$\" )\n",
    "\n",
    "#Cuadro con identificación de colores y figuras\n",
    "plt.legend()\n",
    "\n",
    "# Guarda la imagen (permite guardarla en gráficos vectorizados en .pdf)\n",
    "plt.savefig('grafico.pdf',        # nombre archivo\n",
    "            format='pdf',        # formato\n",
    "            bbox_inches='tight',  # elimina bordes vacios\n",
    "           )\n",
    "\n",
    "#Una vez seteadas las caracteristicas muestra el grafico\n",
    "plt.show()\n",
    "\n"
   ]
  },
  {
   "cell_type": "markdown",
   "metadata": {
    "colab_type": "text",
    "id": "1d1dcNDN4FlI"
   },
   "source": [
    "## 7) Regresión lineal"
   ]
  },
  {
   "cell_type": "markdown",
   "metadata": {
    "colab_type": "text",
    "id": "xD0Mvimd4FlJ"
   },
   "source": [
    "Recordemos que el estimador de mínimos cuadrados (o máxima verosimilituf) está definido como $$\\theta_{MV} = (X^T X)^{-1} X^T Y$$ Para encontrar los parámetros que satisfacen la máxima verosimilitud debemos calcularlos con esta definición."
   ]
  },
  {
   "cell_type": "code",
   "execution_count": 40,
   "metadata": {
    "colab": {},
    "colab_type": "code",
    "id": "E9GeMIcT4FlK"
   },
   "outputs": [],
   "source": [
    "#Separamos nuestro conjunto de datos en Train y Test\n",
    "X_train = X[:-200]\n",
    "X_test = X[-200:]\n",
    "\n",
    "Y_train = Y[:-200]\n",
    "Y_test = Y[-200:]\n",
    "\n",
    "#X extendido con valores 1\n",
    "X1 = np.vstack([X_train,np.ones_like(X_train)]).T\n",
    "\n",
    "#Primera expresion\n",
    "A = np.linalg.inv(np.dot(X1.T,X1)) \n",
    "#Segunda expresion\n",
    "B = np.dot(X1.T,Y_train)\n",
    "\n",
    "#Parámetros de maxima verosimilitud\n",
    "theta = np.dot(A,B)\n",
    "\n",
    "a = theta[0]\n",
    "b = theta[1]\n",
    "\n",
    "#Este metodo para encontrar las soluciones es ineficiente computacionalmente, \n",
    "#pero por razones pedagogicas se muestra así\n",
    "#En general para resolver sistema de ecuaciones se usa np.linalg.solve()\n",
    "\n",
    "#Prediccion sobre training set\n",
    "Y_train_pred = a*X_train+b\n",
    "\n",
    "#Prediccion sobre test set\n",
    "Y_test_pred = a*X_test+b\n"
   ]
  },
  {
   "cell_type": "code",
   "execution_count": 49,
   "metadata": {
    "colab": {},
    "colab_type": "code",
    "id": "uItlj1UC4FlQ",
    "outputId": "ddc3e7e6-75eb-49ee-c5cb-f49d0e86d1c3"
   },
   "outputs": [
    {
     "name": "stdout",
     "output_type": "stream",
     "text": [
      "El valor de theta es [ -7.46292587 262.81072639]\n"
     ]
    },
    {
     "data": {
      "image/png": "[encoded data removed]",
      "text/plain": [
       "<Figure size 864x432 with 1 Axes>"
      ]
     },
     "metadata": {
      "needs_background": "light"
     },
     "output_type": "display_data"
    }
   ],
   "source": [
    "# Ploteamos la recta de prediccion sobre el conjunto de datos\n",
    "\n",
    "# Argumento de plot 'zorder' permite definir orden de\n",
    "# superposición de los plots\n",
    "plt.figure(figsize=(12,6))\n",
    "\n",
    "plt.plot(X_train,Y_train_pred,'r', label='Prediccion sobre entrenamiento', zorder=2)\n",
    "plt.plot(X_train,Y_train,'*',label='Datos Entrenamiento', zorder=1)\n",
    "\n",
    "\n",
    "plt.xlabel('Salinidad del agua', fontsize=16)\n",
    "plt.ylabel('Temperatura', fontsize=16)\n",
    "\n",
    "plt.title(\"Salinidad v/s Temperatura\", fontsize=16)\n",
    "plt.legend(fontsize=12)\n",
    "\n",
    "print(f'El valor de theta es {theta}')"
   ]
  },
  {
   "cell_type": "code",
   "execution_count": 51,
   "metadata": {},
   "outputs": [
    {
     "data": {
      "image/png": "[encoded data removed]",
      "text/plain": [
       "<Figure size 864x432 with 1 Axes>"
      ]
     },
     "metadata": {
      "needs_background": "light"
     },
     "output_type": "display_data"
    }
   ],
   "source": [
    "plt.figure(figsize=(12,6))\n",
    "\n",
    "\n",
    "plt.plot(X_test,Y_test_pred,'g', label='Prediccion sobre test', zorder=2)\n",
    "plt.plot(X_test,Y_test,'m*',label='Datos de test', zorder=1)\n",
    "\n",
    "plt.xlabel('Salinidad del agua', fontsize=16)\n",
    "plt.ylabel('Temperatura', fontsize=16)\n",
    "\n",
    "plt.title(\"Salinidad v/s Temperatura\", fontsize=16)\n",
    "\n",
    "plt.legend(fontsize=12)\n",
    "\n",
    "plt.show()"
   ]
  },
  {
   "cell_type": "code",
   "execution_count": 52,
   "metadata": {
    "colab": {},
    "colab_type": "code",
    "id": "JZXnaxFM4FlW",
    "outputId": "3c87e66e-b1d0-456f-835c-3e1afdd3e0c7"
   },
   "outputs": [
    {
     "name": "stdout",
     "output_type": "stream",
     "text": [
      "MSE en Train:\n",
      " 6.329521896506761 \n",
      "\n",
      "MSE en Test:\n",
      " 5.247664799545366 \n",
      "\n"
     ]
    }
   ],
   "source": [
    "#Mean Squared Error (MSE)\n",
    "MSE_train = ((Y_train-Y_train_pred)**2).mean()\n",
    "MSE_test = ((Y_test-Y_test_pred)**2).mean()\n",
    "\n",
    "print(\"MSE en Train:\\n\", MSE_train, \"\\n\")\n",
    "print(\"MSE en Test:\\n\", MSE_test, \"\\n\")\n",
    "\n"
   ]
  }
 ],
 "metadata": {
  "colab": {
   "name": "Auxiliar 1, Tutorial Numpy.ipynb",
   "provenance": [],
   "version": "0.3.2"
  },
  "kernelspec": {
   "display_name": "Python 3",
   "language": "python",
   "name": "python3"
  },
  "language_info": {
   "codemirror_mode": {
    "name": "ipython",
    "version": 3
   },
   "file_extension": ".py",
   "mimetype": "text/x-python",
   "name": "python",
   "nbconvert_exporter": "python",
   "pygments_lexer": "ipython3",
   "version": "3.8.5"
  }
 },
 "nbformat": 4,
 "nbformat_minor": 1
}
