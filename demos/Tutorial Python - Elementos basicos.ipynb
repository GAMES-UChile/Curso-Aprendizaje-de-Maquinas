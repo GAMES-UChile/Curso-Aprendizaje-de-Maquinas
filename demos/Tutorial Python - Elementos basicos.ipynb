{
 "cells": [
  {
   "cell_type": "markdown",
   "metadata": {},
   "source": [
    "# Jupyter notebook\n",
    "\n",
    "<a href=\"https://jupyter.org/\">Jupyter notebook</a> es un en entorno de desarrollo interactivo (IDE) web, permite crear documentos con código en un formato bastante amigable, se puede programar por módulos o cajitas, imprimir el output del código en el mismo documento, comentar de forma amigable utilizando <a href=\"https://es.wikipedia.org/wiki/Markdown\">Markdown</a>, LaTex, HTML, etc.\n",
    "    \n",
    "Hoja de trucos <a href=\"https://github.com/adam-p/markdown-here/wiki/Markdown-Cheatsheet\">Markdown</a>.\n",
    "\n",
    "Algunos shortcuts:\n",
    "- **Modo comando**: Esc\n",
    "- **Modo edición**: Enter\n",
    "- **Seleccionar multiples celdas**: Shift-Down/UP\n",
    "- **Ejecutar Celda/s**: Ctrl+Enter\n",
    "- **Guardar**: Ctrl+S\n",
    "- **Insertar celda de código arriba**:A \n",
    "- **Insertar celda de código abajo**: B\n",
    "- **Borrar Celda**: D+D\n",
    "- **Deshacer la última acción de las celdas**: Z\n",
    "- **Convertir a celda código**: Y \n",
    "- **Convertir a celda markdwon**: M\n",
    "\n",
    "Más shorcuts en `Help` > `Keyboard Shorcuts`."
   ]
  },
  {
   "cell_type": "markdown",
   "metadata": {
    "colab_type": "text",
    "id": "_aIAZE7D-jdX"
   },
   "source": [
    "# 1. Python Level 1"
   ]
  },
  {
   "cell_type": "markdown",
   "metadata": {
    "colab_type": "text",
    "id": "pR5czMYn-48I"
   },
   "source": [
    "### Shortcuts\n",
    "\n",
    "Mostrar combinaciones de teclas :Ctrl+M+H\n",
    "\n",
    "Ejecutar Celda: Ctrl/Cmd +Enter <br>\n",
    "Ejecutar Celda y pasar a la siguiente: Shift + Enter <br>\n",
    "Ejecutar Celda y crear una nueva: Alt+Enter <br>\n",
    "Ejecutar Selección: Ctrl/Cmd+Shift+Enter <br>\n",
    "Ejecutar todas las celdas: Ctrl/Cmd + F9 <br>\n",
    "Guardar bloc de notas: Ctrl/Cmd+S <br>\n",
    "Interrumpir la ejecución: Ctrl + M + I\n",
    "\n",
    "Insertar celda de código arriba:Ctrl + M+ A <br>\n",
    "Insertar celda de código abajo: Ctrl + M+ B <br>\n",
    "Borrar Celda: Ctrl/Cmd+M+D <br>\n",
    "Deshacer la última acción de las celdas : Ctrl + M +  Z <br>\n",
    "\n",
    "\n",
    "\n",
    "\n",
    "Convertir a celda de código: Ctrl+M+Y <br>\n",
    "Convertir a celda de texto: Ctrl+M+M <br>"
   ]
  },
  {
   "cell_type": "markdown",
   "metadata": {
    "colab_type": "text",
    "id": "TAmxIXJx-jdZ"
   },
   "source": [
    "## 1.1 Números"
   ]
  },
  {
   "cell_type": "code",
   "execution_count": 0,
   "metadata": {
    "colab": {
     "base_uri": "https://localhost:8080/",
     "height": 34
    },
    "colab_type": "code",
    "id": "1VajNlHsAVON",
    "outputId": "7fc4c6f7-0d55-425f-ed78-19b89c0bd5e5"
   },
   "outputs": [
    {
     "data": {
      "text/plain": [
       "4"
      ]
     },
     "execution_count": 2,
     "metadata": {
      "tags": []
     },
     "output_type": "execute_result"
    }
   ],
   "source": [
    "# comentar con el símbolo gato dentro de una celda de código\n",
    "1+3"
   ]
  },
  {
   "cell_type": "code",
   "execution_count": 0,
   "metadata": {
    "colab": {
     "base_uri": "https://localhost:8080/",
     "height": 34
    },
    "colab_type": "code",
    "id": "4rhUB09aSjrS",
    "outputId": "c9de63ec-678a-46d7-9623-b4c931db6e31"
   },
   "outputs": [
    {
     "data": {
      "text/plain": [
       "0.5"
      ]
     },
     "execution_count": 3,
     "metadata": {
      "tags": []
     },
     "output_type": "execute_result"
    }
   ],
   "source": [
    "1/2"
   ]
  },
  {
   "cell_type": "code",
   "execution_count": 0,
   "metadata": {
    "colab": {
     "base_uri": "https://localhost:8080/",
     "height": 34
    },
    "colab_type": "code",
    "id": "E4iPB-HzSnBE",
    "outputId": "c0e8e037-387e-4219-a652-8c0bd65b017a"
   },
   "outputs": [
    {
     "data": {
      "text/plain": [
       "1.4142135623730951"
      ]
     },
     "execution_count": 6,
     "metadata": {
      "tags": []
     },
     "output_type": "execute_result"
    }
   ],
   "source": [
    "2**(1/2)"
   ]
  },
  {
   "cell_type": "code",
   "execution_count": 0,
   "metadata": {
    "colab": {
     "base_uri": "https://localhost:8080/",
     "height": 34
    },
    "colab_type": "code",
    "id": "jTzV63eOcgZs",
    "outputId": "ce0eb2f7-cc73-4e45-e573-2069d3bb7ede"
   },
   "outputs": [
    {
     "data": {
      "text/plain": [
       "45"
      ]
     },
     "execution_count": 3,
     "metadata": {
      "tags": []
     },
     "output_type": "execute_result"
    }
   ],
   "source": [
    "#asignar una variable\n",
    "a = 45\n",
    "a"
   ]
  },
  {
   "cell_type": "code",
   "execution_count": 0,
   "metadata": {
    "colab": {
     "base_uri": "https://localhost:8080/",
     "height": 34
    },
    "colab_type": "code",
    "id": "NW8KlQKtcnx9",
    "outputId": "3e16094e-001d-4692-8eae-7ef5a43b1db7"
   },
   "outputs": [
    {
     "data": {
      "text/plain": [
       "47"
      ]
     },
     "execution_count": 5,
     "metadata": {
      "tags": []
     },
     "output_type": "execute_result"
    }
   ],
   "source": [
    "#reasignar una variable\n",
    "a=a+1\n",
    "a"
   ]
  },
  {
   "cell_type": "code",
   "execution_count": 0,
   "metadata": {
    "colab": {
     "base_uri": "https://localhost:8080/",
     "height": 34
    },
    "colab_type": "code",
    "id": "yDykN0Vvch96",
    "outputId": "8ba08d8b-e158-4ff1-c0ac-fcc19ec28e8e"
   },
   "outputs": [
    {
     "data": {
      "text/plain": [
       "0"
      ]
     },
     "execution_count": 6,
     "metadata": {
      "tags": []
     },
     "output_type": "execute_result"
    }
   ],
   "source": [
    "#Como 2 cae un número entero de veces en 4 su resto es 0\n",
    "4%2"
   ]
  },
  {
   "cell_type": "code",
   "execution_count": 0,
   "metadata": {
    "colab": {
     "base_uri": "https://localhost:8080/",
     "height": 34
    },
    "colab_type": "code",
    "id": "xpF4nLOkc1Rq",
    "outputId": "8f357723-1291-4b05-bfad-8505a1cc8272"
   },
   "outputs": [
    {
     "data": {
      "text/plain": [
       "1"
      ]
     },
     "execution_count": 8,
     "metadata": {
      "tags": []
     },
     "output_type": "execute_result"
    }
   ],
   "source": [
    "#Pero 3 no \n",
    "4%3"
   ]
  },
  {
   "cell_type": "markdown",
   "metadata": {
    "colab_type": "text",
    "id": "1aZ9uSf2-jeF"
   },
   "source": [
    "## 1.2 Strings\n",
    "Un string es una cadena de caracteres y se inicializa poniendo contenido entre comillas simples o dobles"
   ]
  },
  {
   "cell_type": "code",
   "execution_count": 0,
   "metadata": {
    "colab": {
     "base_uri": "https://localhost:8080/",
     "height": 34
    },
    "colab_type": "code",
    "id": "B68YNRChTGGl",
    "outputId": "3f3bd7b9-005c-4537-8abd-dad60c60d579"
   },
   "outputs": [
    {
     "data": {
      "text/plain": [
       "'hola2131232'"
      ]
     },
     "execution_count": 12,
     "metadata": {
      "tags": []
     },
     "output_type": "execute_result"
    }
   ],
   "source": [
    "'hola2131232'"
   ]
  },
  {
   "cell_type": "code",
   "execution_count": 0,
   "metadata": {
    "colab": {
     "base_uri": "https://localhost:8080/",
     "height": 129
    },
    "colab_type": "code",
    "id": "J3N1QpxiTJDJ",
    "outputId": "81a2abcd-8d2d-408f-ca04-695f30f569c3"
   },
   "outputs": [
    {
     "ename": "SyntaxError",
     "evalue": "ignored",
     "output_type": "error",
     "traceback": [
      "\u001b[0;36m  File \u001b[0;32m\"<ipython-input-9-0157a7cf2a6d>\"\u001b[0;36m, line \u001b[0;32m1\u001b[0m\n\u001b[0;31m    'isn't'\u001b[0m\n\u001b[0m         ^\u001b[0m\n\u001b[0;31mSyntaxError\u001b[0m\u001b[0;31m:\u001b[0m invalid syntax\n"
     ]
    }
   ],
   "source": [
    "#cuidado con los apóstrofes\n",
    "'isn't'"
   ]
  },
  {
   "cell_type": "code",
   "execution_count": 0,
   "metadata": {
    "colab": {
     "base_uri": "https://localhost:8080/",
     "height": 34
    },
    "colab_type": "code",
    "id": "EPsWEzyPheSw",
    "outputId": "e2ec1442-cddb-458e-ecbd-36755d726201"
   },
   "outputs": [
    {
     "data": {
      "text/plain": [
       "\"isn't\""
      ]
     },
     "execution_count": 10,
     "metadata": {
      "tags": []
     },
     "output_type": "execute_result"
    }
   ],
   "source": [
    "#forma correcta\n",
    "\"isn't\""
   ]
  },
  {
   "cell_type": "code",
   "execution_count": 0,
   "metadata": {
    "colab": {
     "base_uri": "https://localhost:8080/",
     "height": 34
    },
    "colab_type": "code",
    "id": "RLyu7nZ8TWRV",
    "outputId": "b7c8f201-239d-4f95-8358-ea63aea90b9f"
   },
   "outputs": [
    {
     "data": {
      "text/plain": [
       "5"
      ]
     },
     "execution_count": 12,
     "metadata": {
      "tags": []
     },
     "output_type": "execute_result"
    }
   ],
   "source": [
    "#largo de un string\n",
    "len('hola ')"
   ]
  },
  {
   "cell_type": "code",
   "execution_count": 0,
   "metadata": {
    "colab": {
     "base_uri": "https://localhost:8080/",
     "height": 34
    },
    "colab_type": "code",
    "id": "cMp2km6CTamg",
    "outputId": "02897ebc-8bb0-4841-91a1-13da866b1077"
   },
   "outputs": [
    {
     "data": {
      "text/plain": [
       "'hola mundo'"
      ]
     },
     "execution_count": 13,
     "metadata": {
      "tags": []
     },
     "output_type": "execute_result"
    }
   ],
   "source": [
    "#asignación de variables\n",
    "# el espacio se considera como un carácter \n",
    "a='hola mundo'\n",
    "a"
   ]
  },
  {
   "cell_type": "code",
   "execution_count": 0,
   "metadata": {
    "colab": {
     "base_uri": "https://localhost:8080/",
     "height": 34
    },
    "colab_type": "code",
    "id": "vIpA-oqvTcyF",
    "outputId": "b5a8ba3f-3d9b-4e14-b10b-e89b5d65ab9f"
   },
   "outputs": [
    {
     "data": {
      "text/plain": [
       "'h'"
      ]
     },
     "execution_count": 19,
     "metadata": {
      "tags": []
     },
     "output_type": "execute_result"
    }
   ],
   "source": [
    "# OJO! python parte desde el 0, por ende la primera posición es el 0\n",
    "#acceder a un elmento específico \n",
    "a[0]"
   ]
  },
  {
   "cell_type": "code",
   "execution_count": 0,
   "metadata": {
    "colab": {
     "base_uri": "https://localhost:8080/",
     "height": 34
    },
    "colab_type": "code",
    "id": "GI11uKmHiUdw",
    "outputId": "e1a83690-fc6c-4ce1-c51b-50301fa8269c"
   },
   "outputs": [
    {
     "data": {
      "text/plain": [
       "'o'"
      ]
     },
     "execution_count": 14,
     "metadata": {
      "tags": []
     },
     "output_type": "execute_result"
    }
   ],
   "source": [
    "#último carácter\n",
    "a[-1]"
   ]
  },
  {
   "cell_type": "code",
   "execution_count": 0,
   "metadata": {
    "colab": {
     "base_uri": "https://localhost:8080/",
     "height": 34
    },
    "colab_type": "code",
    "id": "NWAamsvYThPN",
    "outputId": "55a5a0a0-4aa0-4654-a47e-ddba243901e5"
   },
   "outputs": [
    {
     "data": {
      "text/plain": [
       "'hola mundo'"
      ]
     },
     "execution_count": 20,
     "metadata": {
      "tags": []
     },
     "output_type": "execute_result"
    }
   ],
   "source": [
    "#mostrar todos los elementos\n",
    "a[:]"
   ]
  },
  {
   "cell_type": "code",
   "execution_count": 0,
   "metadata": {
    "colab": {
     "base_uri": "https://localhost:8080/",
     "height": 34
    },
    "colab_type": "code",
    "id": "lEeTL1irTj9j",
    "outputId": "e1ed1f25-f19e-4dd4-d881-936093f86fae"
   },
   "outputs": [
    {
     "data": {
      "text/plain": [
       "'hola mund'"
      ]
     },
     "execution_count": 15,
     "metadata": {
      "tags": []
     },
     "output_type": "execute_result"
    }
   ],
   "source": [
    "#mostrar todos los elementos menos el penúltimo\n",
    "a[:-1]"
   ]
  },
  {
   "cell_type": "code",
   "execution_count": 0,
   "metadata": {
    "colab": {
     "base_uri": "https://localhost:8080/",
     "height": 34
    },
    "colab_type": "code",
    "id": "0lCaJnUzi1SH",
    "outputId": "9269bcd7-8c52-4e41-94be-c41aa1f6dda7"
   },
   "outputs": [
    {
     "data": {
      "text/plain": [
       "'ola'"
      ]
     },
     "execution_count": 16,
     "metadata": {
      "tags": []
     },
     "output_type": "execute_result"
    }
   ],
   "source": [
    "#todos los elementos entre la posición 2 y 4\n",
    "a[1:4]"
   ]
  },
  {
   "cell_type": "code",
   "execution_count": 0,
   "metadata": {
    "colab": {
     "base_uri": "https://localhost:8080/",
     "height": 163
    },
    "colab_type": "code",
    "id": "WwbqGFUhjG7J",
    "outputId": "a667c8c2-9c5a-469b-e8ce-fa80564ecedf"
   },
   "outputs": [
    {
     "ename": "IndexError",
     "evalue": "ignored",
     "output_type": "error",
     "traceback": [
      "\u001b[0;31m---------------------------------------------------------------------------\u001b[0m",
      "\u001b[0;31mIndexError\u001b[0m                                Traceback (most recent call last)",
      "\u001b[0;32m<ipython-input-17-7c7cb9812849>\u001b[0m in \u001b[0;36m<module>\u001b[0;34m()\u001b[0m\n\u001b[0;32m----> 1\u001b[0;31m \u001b[0ma\u001b[0m\u001b[0;34m[\u001b[0m\u001b[0;36m10\u001b[0m\u001b[0;34m]\u001b[0m\u001b[0;34m\u001b[0m\u001b[0m\n\u001b[0m",
      "\u001b[0;31mIndexError\u001b[0m: string index out of range"
     ]
    }
   ],
   "source": [
    "# ERROR: índice fuera de rango, si el largo del string es 10, sus posiciones van del 0 al 9\n",
    "a[10]"
   ]
  },
  {
   "cell_type": "code",
   "execution_count": 0,
   "metadata": {
    "colab": {
     "base_uri": "https://localhost:8080/",
     "height": 163
    },
    "colab_type": "code",
    "id": "cX3glu-xTm24",
    "outputId": "47c12ca1-b55c-453f-b3f7-be6ceb2c50e5"
   },
   "outputs": [
    {
     "ename": "TypeError",
     "evalue": "ignored",
     "output_type": "error",
     "traceback": [
      "\u001b[0;31m---------------------------------------------------------------------------\u001b[0m",
      "\u001b[0;31mTypeError\u001b[0m                                 Traceback (most recent call last)",
      "\u001b[0;32m<ipython-input-23-244e81312d0f>\u001b[0m in \u001b[0;36m<module>\u001b[0;34m()\u001b[0m\n\u001b[0;32m----> 1\u001b[0;31m \u001b[0ma\u001b[0m\u001b[0;34m[\u001b[0m\u001b[0;36m0\u001b[0m\u001b[0;34m]\u001b[0m\u001b[0;34m=\u001b[0m\u001b[0;34m'H'\u001b[0m\u001b[0;34m\u001b[0m\u001b[0m\n\u001b[0m",
      "\u001b[0;31mTypeError\u001b[0m: 'str' object does not support item assignment"
     ]
    }
   ],
   "source": [
    "#ERROR: Los caracteres de un string son inmuntables\n",
    "a[0]='H'"
   ]
  },
  {
   "cell_type": "code",
   "execution_count": 0,
   "metadata": {
    "colab": {
     "base_uri": "https://localhost:8080/",
     "height": 34
    },
    "colab_type": "code",
    "id": "djH50suFja4R",
    "outputId": "eabb3ec0-4207-4db7-bac2-354ac5809226"
   },
   "outputs": [
    {
     "data": {
      "text/plain": [
       "'Hola Kevin Murphy'"
      ]
     },
     "execution_count": 20,
     "metadata": {
      "tags": []
     },
     "output_type": "execute_result"
    }
   ],
   "source": [
    "#Concatenar\n",
    "'Hola' + ' Kevin' +' Murphy'"
   ]
  },
  {
   "cell_type": "code",
   "execution_count": 0,
   "metadata": {
    "colab": {
     "base_uri": "https://localhost:8080/",
     "height": 34
    },
    "colab_type": "code",
    "id": "zKI69L0cjpls",
    "outputId": "4ae88621-690a-41a3-f1ae-72eaca32bb3d"
   },
   "outputs": [
    {
     "data": {
      "text/plain": [
       "'Nombre: Kevin, Apellido:Murphy'"
      ]
     },
     "execution_count": 19,
     "metadata": {
      "tags": []
     },
     "output_type": "execute_result"
    }
   ],
   "source": [
    "#Formatear un string\n",
    "\n",
    "'Nombre: {n}, Apellido:{a}'.format(n='Kevin', a='Murphy')"
   ]
  },
  {
   "cell_type": "markdown",
   "metadata": {
    "colab_type": "text",
    "id": "v8d91JMM-je9"
   },
   "source": [
    "## 1.3 Listas\n",
    "Una lista es conjunto ordenado de elementos"
   ]
  },
  {
   "cell_type": "code",
   "execution_count": 0,
   "metadata": {
    "colab": {
     "base_uri": "https://localhost:8080/",
     "height": 34
    },
    "colab_type": "code",
    "id": "yiw7nFe_Tuwg",
    "outputId": "e58197cb-d1fb-44ed-d356-8780711ebbe9"
   },
   "outputs": [
    {
     "data": {
      "text/plain": [
       "[1, 'hola', '2', [1, 2, 3]]"
      ]
     },
     "execution_count": 23,
     "metadata": {
      "tags": []
     },
     "output_type": "execute_result"
    }
   ],
   "source": [
    "#Una lista puede tener diferentes tipos de objetos\n",
    "my_list = [1, 'hola', '2', [1, 2, 3]]\n",
    "my_list"
   ]
  },
  {
   "cell_type": "code",
   "execution_count": 0,
   "metadata": {
    "colab": {
     "base_uri": "https://localhost:8080/",
     "height": 153
    },
    "colab_type": "code",
    "id": "CxRN0ecwTyq6",
    "outputId": "ba81a0f0-b082-4eb8-df1c-cce7e66fe1ea"
   },
   "outputs": [
    {
     "name": "stdout",
     "output_type": "stream",
     "text": [
      "posicion 0:  1 \n",
      "\n",
      "todos los elementos:  [1, 'hola', '2', [1, 2, 3]] \n",
      "\n",
      "todos los elementos menos el último:  [1, 'hola', '2'] \n",
      "\n",
      "indexar un elemento dentro de la lista:  2 \n",
      "\n"
     ]
    }
   ],
   "source": [
    "#indexamiento\n",
    "print('posicion 0: ',my_list[0], '\\n')\n",
    "print('todos los elementos: ',my_list[:], '\\n')\n",
    "print('todos los elementos menos el último: ',my_list[:-1], '\\n')\n",
    "print('indexar un elemento dentro de la lista: ',my_list[3][1], '\\n') #la posición 2 del elemento 4 de la lista"
   ]
  },
  {
   "cell_type": "code",
   "execution_count": 0,
   "metadata": {
    "colab": {
     "base_uri": "https://localhost:8080/",
     "height": 34
    },
    "colab_type": "code",
    "id": "8_wLxH2XT4Hu",
    "outputId": "cb9779db-bc69-4aa6-9635-5627a78ad32b"
   },
   "outputs": [
    {
     "data": {
      "text/plain": [
       "[1, 'Hello World', '2', [1, 2, 3]]"
      ]
     },
     "execution_count": 27,
     "metadata": {
      "tags": []
     },
     "output_type": "execute_result"
    }
   ],
   "source": [
    "#Los elementos de una lista son mutables\n",
    "my_list[1] = 'Hello World'\n",
    "my_list"
   ]
  },
  {
   "cell_type": "code",
   "execution_count": 0,
   "metadata": {
    "colab": {
     "base_uri": "https://localhost:8080/",
     "height": 34
    },
    "colab_type": "code",
    "id": "1VmCs6oET8WP",
    "outputId": "a225c692-047f-459a-9789-ec6bf535c55c"
   },
   "outputs": [
    {
     "data": {
      "text/plain": [
       "[1, 'Hello World', '2', [1, 2, 3], 0]"
      ]
     },
     "execution_count": 28,
     "metadata": {
      "tags": []
     },
     "output_type": "execute_result"
    }
   ],
   "source": [
    "#agregar un elemento a la lista\n",
    "my_list.append(0)\n",
    "my_list"
   ]
  },
  {
   "cell_type": "code",
   "execution_count": 0,
   "metadata": {
    "colab": {
     "base_uri": "https://localhost:8080/",
     "height": 34
    },
    "colab_type": "code",
    "id": "CXO5WX8JUCEk",
    "outputId": "eb2b3f9c-247b-4b1c-be00-67feaf7a26a8"
   },
   "outputs": [
    {
     "data": {
      "text/plain": [
       "['Hello World', '2', [1, 2, 3], 0]"
      ]
     },
     "execution_count": 29,
     "metadata": {
      "tags": []
     },
     "output_type": "execute_result"
    }
   ],
   "source": [
    "#Eliminar un elemento de la lista\n",
    "my_list.pop(0) #eliminar la posición 0\n",
    "my_list"
   ]
  },
  {
   "cell_type": "code",
   "execution_count": 0,
   "metadata": {
    "colab": {
     "base_uri": "https://localhost:8080/",
     "height": 51
    },
    "colab_type": "code",
    "id": "J2On4GAOUI0E",
    "outputId": "b27aa098-f1b4-4b34-e069-c3c63f8326df"
   },
   "outputs": [
    {
     "name": "stdout",
     "output_type": "stream",
     "text": [
      "4\n",
      "3\n"
     ]
    }
   ],
   "source": [
    "print(len(my_list))#Largo de una lista\n",
    "print(len(my_list[2]))#Largo de un elmento de la lista"
   ]
  },
  {
   "cell_type": "markdown",
   "metadata": {
    "colab_type": "text",
    "id": "btbSXKSj-jf0"
   },
   "source": [
    "## 1.4 Diccionarios\n",
    "\n",
    "Un diccionario es un conjunto no ordenado de elementos, cada elemento tiene una llave para acceder a este un valor asociado a esa llave"
   ]
  },
  {
   "cell_type": "markdown",
   "metadata": {
    "colab_type": "text",
    "id": "HkGcTrX5CFNG"
   },
   "source": [
    "diferentes tipos de datos<br>\n",
    "indexamientos<br>\n",
    "agregar elementos<br>\n",
    "lista de llaves y valores <br>"
   ]
  },
  {
   "cell_type": "code",
   "execution_count": 0,
   "metadata": {
    "colab": {
     "base_uri": "https://localhost:8080/",
     "height": 102
    },
    "colab_type": "code",
    "id": "ER2kWpJ_CSCb",
    "outputId": "fb24f5a3-7909-4e57-8ede-15dace192969"
   },
   "outputs": [
    {
     "data": {
      "text/plain": [
       "{0: 'número',\n",
       " 'key1': 9,\n",
       " 'key2': [1, 2, 3],\n",
       " 'key3': 'hola',\n",
       " 'key5': {'k1': 'nested_value1', 'k2': 'nested_value2'}}"
      ]
     },
     "execution_count": 37,
     "metadata": {
      "tags": []
     },
     "output_type": "execute_result"
    }
   ],
   "source": [
    "#Los valores de las llaves pueden ser un número o un string, los valores pueden ser cualquier tipo de elemento\n",
    "my_dict = {'key1':9, 'key2':[1,2,3], 'key3': 'hola', 0:'número', 'key5': {'k1': 'nested_value1', 'k2':'nested_value2'}}\n",
    "my_dict"
   ]
  },
  {
   "cell_type": "code",
   "execution_count": 0,
   "metadata": {
    "colab": {
     "base_uri": "https://localhost:8080/",
     "height": 129
    },
    "colab_type": "code",
    "id": "K4h26f_vUi1S",
    "outputId": "c14489de-520c-4db2-c6e2-21f6fdad9d83"
   },
   "outputs": [
    {
     "ename": "SyntaxError",
     "evalue": "ignored",
     "output_type": "error",
     "traceback": [
      "\u001b[0;36m  File \u001b[0;32m\"<ipython-input-38-5cdc50344998>\"\u001b[0;36m, line \u001b[0;32m1\u001b[0m\n\u001b[0;31m    my_dict['0]\u001b[0m\n\u001b[0m               ^\u001b[0m\n\u001b[0;31mSyntaxError\u001b[0m\u001b[0;31m:\u001b[0m EOL while scanning string literal\n"
     ]
    }
   ],
   "source": [
    "#ERROR: Los diccionarios se indexan por sus llaves\n",
    "my_dict['0]"
   ]
  },
  {
   "cell_type": "code",
   "execution_count": 0,
   "metadata": {
    "colab": {
     "base_uri": "https://localhost:8080/",
     "height": 163
    },
    "colab_type": "code",
    "id": "FNOxmR3ZoUgR",
    "outputId": "b52e5559-296a-4a54-fec7-befc95464d23"
   },
   "outputs": [
    {
     "ename": "KeyError",
     "evalue": "ignored",
     "output_type": "error",
     "traceback": [
      "\u001b[0;31m---------------------------------------------------------------------------\u001b[0m",
      "\u001b[0;31mKeyError\u001b[0m                                  Traceback (most recent call last)",
      "\u001b[0;32m<ipython-input-39-78720427d7ac>\u001b[0m in \u001b[0;36m<module>\u001b[0;34m()\u001b[0m\n\u001b[0;32m----> 1\u001b[0;31m \u001b[0mmy_dict\u001b[0m\u001b[0;34m[\u001b[0m\u001b[0;34m'key'\u001b[0m\u001b[0;34m]\u001b[0m\u001b[0;34m\u001b[0m\u001b[0m\n\u001b[0m",
      "\u001b[0;31mKeyError\u001b[0m: 'key'"
     ]
    }
   ],
   "source": [
    "my_dict['key']"
   ]
  },
  {
   "cell_type": "code",
   "execution_count": 0,
   "metadata": {
    "colab": {
     "base_uri": "https://localhost:8080/",
     "height": 34
    },
    "colab_type": "code",
    "id": "eSr8s2xnUoA5",
    "outputId": "1f8af078-c731-4bc0-8ab8-29743aa53250"
   },
   "outputs": [
    {
     "data": {
      "text/plain": [
       "['key1', 'key2', 'key3', 0, 'key5']"
      ]
     },
     "execution_count": 40,
     "metadata": {
      "tags": []
     },
     "output_type": "execute_result"
    }
   ],
   "source": [
    "#lista que las llaves\n",
    "list(my_dict.keys())"
   ]
  },
  {
   "cell_type": "code",
   "execution_count": 0,
   "metadata": {
    "colab": {
     "base_uri": "https://localhost:8080/",
     "height": 102
    },
    "colab_type": "code",
    "id": "maxmN7MkU0Cu",
    "outputId": "40ef85de-20eb-4d85-9196-84ba4339e479"
   },
   "outputs": [
    {
     "data": {
      "text/plain": [
       "[9,\n",
       " [1, 2, 3],\n",
       " 'hola',\n",
       " 'número',\n",
       " {'k1': 'nested_value1', 'k2': 'nested_value2'}]"
      ]
     },
     "execution_count": 41,
     "metadata": {
      "tags": []
     },
     "output_type": "execute_result"
    }
   ],
   "source": [
    "#lista de los valores\n",
    "list(my_dict.values())"
   ]
  },
  {
   "cell_type": "code",
   "execution_count": 0,
   "metadata": {
    "colab": {},
    "colab_type": "code",
    "id": "09_faQeOU6Hj"
   },
   "outputs": [],
   "source": [
    "#Agregar un elmento\n",
    "my_dict['key4'] = 'hi'"
   ]
  },
  {
   "cell_type": "code",
   "execution_count": 0,
   "metadata": {
    "colab": {
     "base_uri": "https://localhost:8080/",
     "height": 119
    },
    "colab_type": "code",
    "id": "QYQBgZ7hVARC",
    "outputId": "09badfda-086f-495a-9337-ca27d09e483c"
   },
   "outputs": [
    {
     "data": {
      "text/plain": [
       "{0: 'número',\n",
       " 'key1': 9,\n",
       " 'key2': [1, 2, 3],\n",
       " 'key3': 'hola',\n",
       " 'key4': 'hi',\n",
       " 'key5': {'k1': 'nested_value1', 'k2': 'nested_value2'}}"
      ]
     },
     "execution_count": 43,
     "metadata": {
      "tags": []
     },
     "output_type": "execute_result"
    }
   ],
   "source": [
    "my_dict"
   ]
  },
  {
   "cell_type": "markdown",
   "metadata": {
    "colab_type": "text",
    "id": "xCJ2cEko-jgG"
   },
   "source": [
    "## 1.5 Tuplas"
   ]
  },
  {
   "cell_type": "markdown",
   "metadata": {
    "colab_type": "text",
    "id": "2-U8oGNN-jgG"
   },
   "source": [
    "Las tuplas son conjuntos ordenados al igual que las listas, pero no son mutables."
   ]
  },
  {
   "cell_type": "code",
   "execution_count": 0,
   "metadata": {
    "colab": {
     "base_uri": "https://localhost:8080/",
     "height": 34
    },
    "colab_type": "code",
    "id": "qkcxphU_VDID",
    "outputId": "40f60802-fe33-4f44-a5c1-5ad7a23d62cb"
   },
   "outputs": [
    {
     "data": {
      "text/plain": [
       "(1, 'hola')"
      ]
     },
     "execution_count": 46,
     "metadata": {
      "tags": []
     },
     "output_type": "execute_result"
    }
   ],
   "source": [
    "my_tupla = (1, 'hola')\n",
    "my_tupla"
   ]
  },
  {
   "cell_type": "code",
   "execution_count": 0,
   "metadata": {
    "colab": {
     "base_uri": "https://localhost:8080/",
     "height": 34
    },
    "colab_type": "code",
    "id": "7magh_-5VIHB",
    "outputId": "7f67bd76-6539-4d6b-ebe0-c55ccd288c2b"
   },
   "outputs": [
    {
     "data": {
      "text/plain": [
       "1"
      ]
     },
     "execution_count": 47,
     "metadata": {
      "tags": []
     },
     "output_type": "execute_result"
    }
   ],
   "source": [
    "my_tupla[0]"
   ]
  },
  {
   "cell_type": "code",
   "execution_count": 0,
   "metadata": {
    "colab": {
     "base_uri": "https://localhost:8080/",
     "height": 163
    },
    "colab_type": "code",
    "id": "VKX9mEd4VJh7",
    "outputId": "459f43c8-a24f-406c-9d13-b4d1c3a200a1"
   },
   "outputs": [
    {
     "ename": "TypeError",
     "evalue": "ignored",
     "output_type": "error",
     "traceback": [
      "\u001b[0;31m---------------------------------------------------------------------------\u001b[0m",
      "\u001b[0;31mTypeError\u001b[0m                                 Traceback (most recent call last)",
      "\u001b[0;32m<ipython-input-48-c8446f27f5ff>\u001b[0m in \u001b[0;36m<module>\u001b[0;34m()\u001b[0m\n\u001b[0;32m----> 1\u001b[0;31m \u001b[0mmy_tupla\u001b[0m\u001b[0;34m[\u001b[0m\u001b[0;36m0\u001b[0m\u001b[0;34m]\u001b[0m\u001b[0;34m=\u001b[0m\u001b[0;34m'hi'\u001b[0m\u001b[0;34m\u001b[0m\u001b[0m\n\u001b[0m",
      "\u001b[0;31mTypeError\u001b[0m: 'tuple' object does not support item assignment"
     ]
    }
   ],
   "source": [
    "#ERROR: los elementos de una tupla no son mutables\n",
    "my_tupla[0]='hi'"
   ]
  },
  {
   "cell_type": "code",
   "execution_count": 0,
   "metadata": {
    "colab": {
     "base_uri": "https://localhost:8080/",
     "height": 163
    },
    "colab_type": "code",
    "id": "gnGtS3nspAMF",
    "outputId": "91496c0d-d352-4d11-9321-90e9e24f724d"
   },
   "outputs": [
    {
     "ename": "AttributeError",
     "evalue": "ignored",
     "output_type": "error",
     "traceback": [
      "\u001b[0;31m---------------------------------------------------------------------------\u001b[0m",
      "\u001b[0;31mAttributeError\u001b[0m                            Traceback (most recent call last)",
      "\u001b[0;32m<ipython-input-50-ff1839372ef1>\u001b[0m in \u001b[0;36m<module>\u001b[0;34m()\u001b[0m\n\u001b[0;32m----> 1\u001b[0;31m \u001b[0mmy_tupla\u001b[0m\u001b[0;34m.\u001b[0m\u001b[0mappend\u001b[0m\u001b[0;34m(\u001b[0m\u001b[0;34m'hola'\u001b[0m\u001b[0;34m)\u001b[0m\u001b[0;34m\u001b[0m\u001b[0m\n\u001b[0m",
      "\u001b[0;31mAttributeError\u001b[0m: 'tuple' object has no attribute 'append'"
     ]
    }
   ],
   "source": [
    "#ERROR:la tupla no es mutable, no se puede agregar elementos a la lista\n",
    "my_tupla.append('hola')"
   ]
  },
  {
   "cell_type": "markdown",
   "metadata": {
    "colab_type": "text",
    "id": "i0gliOku-jgY"
   },
   "source": [
    "## 1.6 Conjuntos\n",
    "Los conjuntos continen una serie de elementos al igual que las listas, pero son no ordenados y cada elemento del conjunto es único. Además sus elementos solo pueden ser números o strings."
   ]
  },
  {
   "cell_type": "markdown",
   "metadata": {
    "colab_type": "text",
    "id": "bFtuyk54-jgY"
   },
   "source": [
    "colecciones no ordenadas, elementos únicos<br>\n",
    "añadir elementos : add() <br>\n",
    "interseccion: intersection()<br>\n",
    "union: union() <br>\n",
    "resta de conjuntos<br>"
   ]
  },
  {
   "cell_type": "code",
   "execution_count": 0,
   "metadata": {
    "colab": {
     "base_uri": "https://localhost:8080/",
     "height": 163
    },
    "colab_type": "code",
    "id": "R1AbnFdDpl--",
    "outputId": "9ec72e38-c9ca-42ca-9c68-36235bbbe031"
   },
   "outputs": [
    {
     "ename": "TypeError",
     "evalue": "ignored",
     "output_type": "error",
     "traceback": [
      "\u001b[0;31m---------------------------------------------------------------------------\u001b[0m",
      "\u001b[0;31mTypeError\u001b[0m                                 Traceback (most recent call last)",
      "\u001b[0;32m<ipython-input-56-210f170aa61b>\u001b[0m in \u001b[0;36m<module>\u001b[0;34m()\u001b[0m\n\u001b[0;32m----> 1\u001b[0;31m \u001b[0;34m{\u001b[0m\u001b[0;36m1\u001b[0m\u001b[0;34m,\u001b[0m \u001b[0;34m'hola'\u001b[0m\u001b[0;34m,\u001b[0m \u001b[0;34m[\u001b[0m\u001b[0;36m1\u001b[0m\u001b[0;34m,\u001b[0m\u001b[0;36m2\u001b[0m\u001b[0;34m]\u001b[0m\u001b[0;34m}\u001b[0m\u001b[0;34m\u001b[0m\u001b[0m\n\u001b[0m",
      "\u001b[0;31mTypeError\u001b[0m: unhashable type: 'list'"
     ]
    }
   ],
   "source": [
    "#ERROR: solo objetos tipo número o string, NO listas, tuplas, diccionarios, etc.\n",
    "{1, 'hola', [1,2]}"
   ]
  },
  {
   "cell_type": "code",
   "execution_count": 0,
   "metadata": {
    "colab": {
     "base_uri": "https://localhost:8080/",
     "height": 34
    },
    "colab_type": "code",
    "id": "ssMtvCZMVQQe",
    "outputId": "34d756a8-d593-4ceb-edf6-079fb8bf13b5"
   },
   "outputs": [
    {
     "data": {
      "text/plain": [
       "{1, 2, 3}"
      ]
     },
     "execution_count": 58,
     "metadata": {
      "tags": []
     },
     "output_type": "execute_result"
    }
   ],
   "source": [
    "#Elementos únicos\n",
    "{1, 2, 2, 3, 3}"
   ]
  },
  {
   "cell_type": "code",
   "execution_count": 0,
   "metadata": {
    "colab": {
     "base_uri": "https://localhost:8080/",
     "height": 34
    },
    "colab_type": "code",
    "id": "uPs5g5dhVVb4",
    "outputId": "8a4635dc-a449-4d05-cd07-459576551a9e"
   },
   "outputs": [
    {
     "data": {
      "text/plain": [
       "{1, 2, 3}"
      ]
     },
     "execution_count": 62,
     "metadata": {
      "tags": []
     },
     "output_type": "execute_result"
    }
   ],
   "source": [
    "#Crear un conjunto a partir de una lista. Python tiene mucha flexibilidad para pasar de un objeto a otro objeto, por ejemplos de listas a tuplas, listas a conjuntos, etc.\n",
    "set([1, 2, 2, 3])"
   ]
  },
  {
   "cell_type": "code",
   "execution_count": 0,
   "metadata": {
    "colab": {},
    "colab_type": "code",
    "id": "TEn3J8nQVbkn"
   },
   "outputs": [],
   "source": [
    "A = {1, 2, 3}\n",
    "B = {2, 3, 4}"
   ]
  },
  {
   "cell_type": "code",
   "execution_count": 0,
   "metadata": {
    "colab": {
     "base_uri": "https://localhost:8080/",
     "height": 153
    },
    "colab_type": "code",
    "id": "d_VKlYhyVirk",
    "outputId": "35ed83e7-efc5-4889-dff1-a0a125aec534"
   },
   "outputs": [
    {
     "name": "stdout",
     "output_type": "stream",
     "text": [
      "Elementos que están en A y que NO están en B:  {1} \n",
      "\n",
      "Elementos que están en A y  en B:  {2, 3} \n",
      "\n",
      "Unión de A y B:  {1, 2, 3, 4} \n",
      "\n",
      "Elementos que están en A y que NO están en B:  {1} \n",
      "\n"
     ]
    }
   ],
   "source": [
    "print('Elementos que están en A y que NO están en B: ', A-B, '\\n')\n",
    "print('Elementos que están en A y  en B: ', A.intersection(B), '\\n')\n",
    "print('Unión de A y B: ', A.union(B), '\\n')\n",
    "print('Elementos que están en A y que NO están en B: ', A-B, '\\n')"
   ]
  },
  {
   "cell_type": "markdown",
   "metadata": {
    "colab_type": "text",
    "id": "F-Pkxz9e-jgp"
   },
   "source": [
    "## 1.7 Booleanos"
   ]
  },
  {
   "cell_type": "markdown",
   "metadata": {
    "colab_type": "text",
    "id": "4U31riIMDCRq"
   },
   "source": [
    "Valores posibles de un objeto booleano: True, False, None <br>\n",
    "\n",
    "Documentación:<br>\n",
    "https://docs.python.org/3.7/library/stdtypes.html"
   ]
  },
  {
   "cell_type": "code",
   "execution_count": 0,
   "metadata": {
    "colab": {
     "base_uri": "https://localhost:8080/",
     "height": 34
    },
    "colab_type": "code",
    "id": "wz3ZXdwEV0iN",
    "outputId": "c339ca03-bae0-4006-ba89-d0efb1adb676"
   },
   "outputs": [
    {
     "data": {
      "text/plain": [
       "True"
      ]
     },
     "execution_count": 68,
     "metadata": {
      "tags": []
     },
     "output_type": "execute_result"
    }
   ],
   "source": [
    "a = True\n",
    "a"
   ]
  },
  {
   "cell_type": "code",
   "execution_count": 0,
   "metadata": {
    "colab": {
     "base_uri": "https://localhost:8080/",
     "height": 34
    },
    "colab_type": "code",
    "id": "loYb6jiHV2VX",
    "outputId": "6f0bb740-6399-4c9e-a7c6-264ecdf6fb2d"
   },
   "outputs": [
    {
     "data": {
      "text/plain": [
       "False"
      ]
     },
     "execution_count": 71,
     "metadata": {
      "tags": []
     },
     "output_type": "execute_result"
    }
   ],
   "source": [
    "\n",
    "b = False\n",
    "b"
   ]
  },
  {
   "cell_type": "code",
   "execution_count": 0,
   "metadata": {
    "colab": {
     "base_uri": "https://localhost:8080/",
     "height": 34
    },
    "colab_type": "code",
    "id": "U27CtMeQV3QO",
    "outputId": "cf840020-5f2c-4424-b3ee-146f89b9cc2d"
   },
   "outputs": [
    {
     "data": {
      "text/plain": [
       "False"
      ]
     },
     "execution_count": 70,
     "metadata": {
      "tags": []
     },
     "output_type": "execute_result"
    }
   ],
   "source": [
    "a == b # a es igual a b?"
   ]
  },
  {
   "cell_type": "code",
   "execution_count": 0,
   "metadata": {
    "colab": {
     "base_uri": "https://localhost:8080/",
     "height": 34
    },
    "colab_type": "code",
    "id": "oCT-Au9vWHwk",
    "outputId": "94eec23f-07d1-4f3d-b1ca-9485eb25c814"
   },
   "outputs": [
    {
     "data": {
      "text/plain": [
       "True"
      ]
     },
     "execution_count": 72,
     "metadata": {
      "tags": []
     },
     "output_type": "execute_result"
    }
   ],
   "source": [
    "a != b #a es distinto de b?"
   ]
  },
  {
   "cell_type": "code",
   "execution_count": 0,
   "metadata": {
    "colab": {
     "base_uri": "https://localhost:8080/",
     "height": 68
    },
    "colab_type": "code",
    "id": "Jht8kARXucxk",
    "outputId": "1120a986-a2f2-4d73-8ed4-a3add735db70"
   },
   "outputs": [
    {
     "name": "stdout",
     "output_type": "stream",
     "text": [
      "Es A mayor estricto que B?:  False \n",
      "\n",
      "Es A es menor o igual que B que B?:  True\n"
     ]
    }
   ],
   "source": [
    "A = 1\n",
    "B = 2\n",
    "\n",
    "print('Es A mayor estricto que B?: ', a > b, '\\n') \n",
    "print('Es A es menor o igual que B que B?: ', a <= b) "
   ]
  },
  {
   "cell_type": "markdown",
   "metadata": {
    "colab_type": "text",
    "id": "QRs02408-jgv"
   },
   "source": [
    "## 1.8 Control del flujo\n",
    "\n",
    "Una estructura de control, es un bloque de código que permite agrupar instrucciones de manera controlada."
   ]
  },
  {
   "cell_type": "markdown",
   "metadata": {
    "colab_type": "text",
    "id": "Gj3d83MyDLvM"
   },
   "source": [
    "Para describir la evaluación a realizar sobre una condición, se utilizan operadores relacionales (o de comparación):<br>\n",
    "\n",
    "\n",
    "\n",
    "$==$\tIgual que<br>\n",
    "$!=$\tDistinto que<br>\n",
    "$<$\tMenor que\t<br>\n",
    "$>$\tMayor que\t<br>\n",
    "$<=$\tMenor o igual que\t <br>\n",
    "$>=$\tMayor o igual que\t <br>\n",
    "\n",
    "\n",
    "<br>\n",
    "Y para evaluar más de una condición simultáneamente, se utilizan operadores lógicos:<br>\n",
    "\n",
    "Operar \"Y\" : \"and\" o \"&\"\"<br>\n",
    "Operador \"O\": \"or\" o  \"\"|\"\"<br>\n",
    "Operador \"O exclusivo\": \"xor\"<br>\n",
    "if/elif/else<br>\n",
    "\n",
    "\n",
    "\n",
    "Las estructuras de control de flujo condicionales, se definen mediante el uso de tres palabras claves reservadas, del lenguaje:<br>\n",
    "if (si), elif (sino, si) y else (sino).<br><br>\n",
    "\n",
    "\n",
    "Más documentación:\n",
    "\n",
    "https://librosweb.es/libro/python/capitulo-2/estructuras-de-control-de-flujo.html"
   ]
  },
  {
   "cell_type": "code",
   "execution_count": 0,
   "metadata": {
    "colab": {},
    "colab_type": "code",
    "id": "QLdiPeCN3_tv"
   },
   "outputs": [],
   "source": [
    "a = 2\n",
    "b = 1"
   ]
  },
  {
   "cell_type": "code",
   "execution_count": 0,
   "metadata": {
    "colab": {
     "base_uri": "https://localhost:8080/",
     "height": 34
    },
    "colab_type": "code",
    "id": "p1tbvfOgWcrm",
    "outputId": "bfe387ee-5e9b-4c11-a075-8c35dbdcaea6"
   },
   "outputs": [
    {
     "name": "stdout",
     "output_type": "stream",
     "text": [
      "no se cumplió ninguna de las instrucciones anteriores\n"
     ]
    }
   ],
   "source": [
    "if a < b: \n",
    "  print('se cumplió la instrucción 1')\n",
    "elif a == b:\n",
    "  print('no se cumplió la instrucción 1, pero si la 2')\n",
    "else:\n",
    "  print('no se cumplió ninguna de las instrucciones anteriores')"
   ]
  },
  {
   "cell_type": "markdown",
   "metadata": {
    "colab_type": "text",
    "id": "mV2vp3Z7-jg5"
   },
   "source": [
    "## 1.9 Loops"
   ]
  },
  {
   "cell_type": "markdown",
   "metadata": {
    "colab_type": "text",
    "id": "CL_tZFzNDcXW"
   },
   "source": [
    "Un loops ejecuta una secuencia de declaraciones varias veces.\n",
    "\n",
    "\n",
    "\n",
    "  "
   ]
  },
  {
   "cell_type": "code",
   "execution_count": 0,
   "metadata": {
    "colab": {
     "base_uri": "https://localhost:8080/",
     "height": 85
    },
    "colab_type": "code",
    "id": "HF_nk6Qnxn_5",
    "outputId": "84bb1727-affe-4db5-a21b-85cfc9433bd2"
   },
   "outputs": [
    {
     "name": "stdout",
     "output_type": "stream",
     "text": [
      "range(0, 5) :  [0, 1, 2, 3, 4]\n",
      "range(1, 5) :  [1, 2, 3, 4]\n",
      "range(2, 11, 2) :  [2, 4, 6, 8, 10]\n",
      "range(2, 11, -1) :  []\n"
     ]
    }
   ],
   "source": [
    "#Devuelve un objeto que produce una secuencia de enteros desde el inicio (inclusive) detener (exclusivo) por pasos\n",
    "print(range(5),': ', list(range(5))) # entre 0 y 5\n",
    "print(range(1,5),': ', list(range(1,5))) # entre 0 y 5\n",
    "print(range(2,11, 2), ': ', list(range(2,11, 2))) # entre 2 y 11 con saltos de 2 en 2 "
   ]
  },
  {
   "cell_type": "code",
   "execution_count": 0,
   "metadata": {
    "colab": {
     "base_uri": "https://localhost:8080/",
     "height": 102
    },
    "colab_type": "code",
    "id": "3MMh5t3WD8Bm",
    "outputId": "7adcc2d7-6b91-4c8a-e191-3b1e418e7bc2"
   },
   "outputs": [
    {
     "name": "stdout",
     "output_type": "stream",
     "text": [
      "rango: 0, iteración: 1\n",
      "rango: 1, iteración: 2\n",
      "rango: 2, iteración: 3\n",
      "rango: 3, iteración: 4\n",
      "rango: 4, iteración: 5\n"
     ]
    }
   ],
   "source": [
    "# Ejecutar un declaración tantas veces como el largo de la secuencia range(5)\n",
    "for i in range(5):\n",
    "  n_iteracion = i+1\n",
    "  print('rango: {elem_rango}, iteración: {n_iteracion}'.format(elem_rango=i, n_iteracion=n_iteracion))"
   ]
  },
  {
   "cell_type": "code",
   "execution_count": 0,
   "metadata": {
    "colab": {},
    "colab_type": "code",
    "id": "bNMRF-DY1DCj"
   },
   "outputs": [],
   "source": [
    "my_list = [5, 6, 7, 8, 9]"
   ]
  },
  {
   "cell_type": "code",
   "execution_count": 0,
   "metadata": {
    "colab": {
     "base_uri": "https://localhost:8080/",
     "height": 102
    },
    "colab_type": "code",
    "id": "USEqBmTA1BB-",
    "outputId": "36114752-1c9a-4396-c2cf-e1df43938677"
   },
   "outputs": [
    {
     "name": "stdout",
     "output_type": "stream",
     "text": [
      "posición: 0, elemento: 5\n",
      "posición: 1, elemento: 6\n",
      "posición: 2, elemento: 7\n",
      "posición: 3, elemento: 8\n",
      "posición: 4, elemento: 9\n"
     ]
    }
   ],
   "source": [
    "# Ejecutar un declaración tantas veces como el largo de la lista\n",
    "for i in range(len(my_list)):\n",
    "  print('posición: {posicion}, elemento: {elem}'.format(posicion=i, elem=my_list[i])) "
   ]
  },
  {
   "cell_type": "code",
   "execution_count": 0,
   "metadata": {
    "colab": {
     "base_uri": "https://localhost:8080/",
     "height": 102
    },
    "colab_type": "code",
    "id": "i-yThxS62wi6",
    "outputId": "f518d60f-6f5d-42fd-c188-23760c8fe434"
   },
   "outputs": [
    {
     "name": "stdout",
     "output_type": "stream",
     "text": [
      "posición:  0 elemento:  5\n",
      "posición:  1 elemento:  6\n",
      "posición:  2 elemento:  7\n",
      "posición:  3 elemento:  8\n",
      "posición:  4 elemento:  9\n"
     ]
    }
   ],
   "source": [
    "for i, elem in enumerate(my_list):\n",
    "  print('posición: ', i, 'elemento: ', elem)"
   ]
  },
  {
   "cell_type": "code",
   "execution_count": 0,
   "metadata": {
    "colab": {
     "base_uri": "https://localhost:8080/",
     "height": 102
    },
    "colab_type": "code",
    "id": "f6uy0fWmXjtP",
    "outputId": "3e857c15-5217-45dc-ce25-2221f33d0445"
   },
   "outputs": [
    {
     "name": "stdout",
     "output_type": "stream",
     "text": [
      "elemento: 5, elemento por 2: 10\n",
      "elemento: 6, elemento por 2: 12\n",
      "elemento: 7, elemento por 2: 14\n",
      "elemento: 8, elemento por 2: 16\n",
      "elemento: 9, elemento por 2: 18\n"
     ]
    }
   ],
   "source": [
    "for elem in my_list: \n",
    "  elem_x2 = elem*2\n",
    "  print('elemento: {elem}, elemento por 2: {elem_x2}'.format(elem=elem, elem_x2=elem_x2))"
   ]
  },
  {
   "cell_type": "code",
   "execution_count": 0,
   "metadata": {
    "colab": {
     "base_uri": "https://localhost:8080/",
     "height": 187
    },
    "colab_type": "code",
    "id": "b9BUn6fB4RfM",
    "outputId": "317bb007-b7bf-452b-ee7f-5d0557bd0c52"
   },
   "outputs": [
    {
     "name": "stdout",
     "output_type": "stream",
     "text": [
      "iteración: 0\n",
      "iteración: 1\n",
      "iteración: 2\n",
      "iteración: 3\n",
      "iteración: 4\n",
      "iteración: 5\n",
      "iteración: 6\n",
      "iteración: 7\n",
      "iteración: 8\n",
      "iteración: 9\n"
     ]
    }
   ],
   "source": [
    "#Ejecutar una declaración hasta que se cumpla la condición de parada, es decir 'while (condition) ==False'\n",
    "i=0\n",
    "while (i<10):\n",
    "  print('iteración:', i)\n",
    "  i=i+1\n",
    "  "
   ]
  },
  {
   "cell_type": "markdown",
   "metadata": {
    "colab_type": "text",
    "id": "7xuhbTzi-jhH"
   },
   "source": [
    "# 2. Python Level 2"
   ]
  },
  {
   "cell_type": "markdown",
   "metadata": {
    "colab_type": "text",
    "id": "jlngG9xw-jhI"
   },
   "source": [
    "## 2.1 Funciones"
   ]
  },
  {
   "cell_type": "markdown",
   "metadata": {
    "colab_type": "text",
    "id": "uzko9n5-3AOM"
   },
   "source": [
    "\n",
    "Para definir una función se usa la siguiente sintaxis:\n",
    "\n",
    "\n",
    "```\n",
    "  def nombre_funcion(inputs):\n",
    "      declaraciones ....\n",
    "```\n",
    "\n",
    "```\n",
    "  def nombre_funcion(x, y, z=default):\n",
    "      declaraciones ....\n",
    "  \n",
    "  #formas de ejecutar función\n",
    "  nombre_funcion(a, b)\n",
    " \n",
    "  nombre_funcion(x=a, y=b)\n",
    " \n",
    "  nombre_funcion(x=a, y=b, z=c)\n",
    "```\n",
    "\n",
    "Variables mágicas usadas para definir funciones:\n",
    "\n",
    ". *args se utiliza para pasar una lista de argumentos.<br>\n",
    "**kwargs para pasar un diccionario de argumentos, sirve para manejar los argumentos por nombre.<br>\n",
    "\n",
    "Más documentación:<br>\n",
    "https://pythontips.com/2013/08/04/args-and-kwargs-in-python-explained/ <br>\n"
   ]
  },
  {
   "cell_type": "code",
   "execution_count": 0,
   "metadata": {
    "colab": {
     "base_uri": "https://localhost:8080/",
     "height": 34
    },
    "colab_type": "code",
    "id": "FoDoC5BgYPFn",
    "outputId": "3c9f86b5-716d-4679-94b0-c58fa745d1e8"
   },
   "outputs": [
    {
     "name": "stdout",
     "output_type": "stream",
     "text": [
      "hola mundo\n"
     ]
    }
   ],
   "source": [
    "def my_funct(): #una función puede no recibir parámetros\n",
    "  print('hola mundo')\n",
    "  \n",
    "\n",
    "my_funct() #ejecución"
   ]
  },
  {
   "cell_type": "code",
   "execution_count": 0,
   "metadata": {
    "colab": {},
    "colab_type": "code",
    "id": "EXOfcfmqYpTx"
   },
   "outputs": [],
   "source": [
    "def saludo(nombre):\n",
    "  print('Hola', nombre)"
   ]
  },
  {
   "cell_type": "code",
   "execution_count": 0,
   "metadata": {
    "colab": {
     "base_uri": "https://localhost:8080/",
     "height": 34
    },
    "colab_type": "code",
    "id": "NAF7vxOSYuJ6",
    "outputId": "bee89b48-906b-43fb-dc6c-26b8deddc2e0"
   },
   "outputs": [
    {
     "name": "stdout",
     "output_type": "stream",
     "text": [
      "Hola K.Murpphy\n"
     ]
    }
   ],
   "source": [
    "saludo('K.Murpphy')"
   ]
  },
  {
   "cell_type": "code",
   "execution_count": 0,
   "metadata": {
    "colab": {},
    "colab_type": "code",
    "id": "Q_kzTVeIYx_s"
   },
   "outputs": [],
   "source": [
    "def my_funct(x):\n",
    "  if x>0:\n",
    "    return 'número positivo'\n",
    "  else:\n",
    "    return 'número no positivo'"
   ]
  },
  {
   "cell_type": "code",
   "execution_count": 0,
   "metadata": {
    "colab": {
     "base_uri": "https://localhost:8080/",
     "height": 34
    },
    "colab_type": "code",
    "id": "w2r_YIitZDnr",
    "outputId": "2fbd422f-388a-4163-90a0-bc1170ff6413"
   },
   "outputs": [
    {
     "data": {
      "text/plain": [
       "'número positivo'"
      ]
     },
     "execution_count": 123,
     "metadata": {
      "tags": []
     },
     "output_type": "execute_result"
    }
   ],
   "source": [
    "my_funct(1)"
   ]
  },
  {
   "cell_type": "code",
   "execution_count": 0,
   "metadata": {
    "colab": {
     "base_uri": "https://localhost:8080/",
     "height": 34
    },
    "colab_type": "code",
    "id": "szm3nVWJ5v5y",
    "outputId": "a00098a9-e050-4688-d253-9606acb6348a"
   },
   "outputs": [
    {
     "data": {
      "text/plain": [
       "10"
      ]
     },
     "execution_count": 125,
     "metadata": {
      "tags": []
     },
     "output_type": "execute_result"
    }
   ],
   "source": [
    "my_list = [1, 2, 3, 4]\n",
    "def suma(x):\n",
    "  sum=0\n",
    "  for elem in x:\n",
    "    sum=sum+elem\n",
    "  return sum\n",
    "\n",
    "suma(my_list)"
   ]
  },
  {
   "cell_type": "code",
   "execution_count": 0,
   "metadata": {
    "colab": {
     "base_uri": "https://localhost:8080/",
     "height": 34
    },
    "colab_type": "code",
    "id": "KkFZPmfa6a7c",
    "outputId": "8d707170-fd64-49f6-9af0-03c37eb9b75d"
   },
   "outputs": [
    {
     "data": {
      "text/plain": [
       "1"
      ]
     },
     "execution_count": 136,
     "metadata": {
      "tags": []
     },
     "output_type": "execute_result"
    }
   ],
   "source": [
    "def minimo(x):\n",
    "  N = len(x)\n",
    "  min_value = x[0]\n",
    "  \n",
    "  i = 0\n",
    "\n",
    "  for elem in x: #recorrer los elementos en x\n",
    "    if min_value > elem: #si el valor mínimo actual es mayor estricto que el elemento de la iteración actual\n",
    "      min_value = elem #actualizar valor mínimo\n",
    "    else: #esta línea se puede omitir\n",
    "      min_value = min_value\n",
    "      \n",
    "  return min_value\n",
    "\n",
    "minimo(my_list)"
   ]
  },
  {
   "cell_type": "code",
   "execution_count": 0,
   "metadata": {
    "colab": {
     "base_uri": "https://localhost:8080/",
     "height": 34
    },
    "colab_type": "code",
    "id": "wjRE-_B88hKp",
    "outputId": "ed229827-8c5f-414a-8cb9-b2a34938f99d"
   },
   "outputs": [
    {
     "data": {
      "text/plain": [
       "4"
      ]
     },
     "execution_count": 135,
     "metadata": {
      "tags": []
     },
     "output_type": "execute_result"
    }
   ],
   "source": [
    "def maximo(x):\n",
    "  N = len(x)\n",
    "  max_value = x[0]\n",
    "  \n",
    "  i = 0\n",
    "\n",
    "  for elem in x: \n",
    "    if max_value < elem: \n",
    "       max_value = elem \n",
    "    else: \n",
    "      max_value = max_value\n",
    "      \n",
    "  return max_value\n",
    "\n",
    "maximo(my_list)"
   ]
  },
  {
   "cell_type": "markdown",
   "metadata": {
    "colab_type": "text",
    "id": "G3It_rb69IwA"
   },
   "source": [
    "$$\\bar{X} = \\frac{\\sum_{i=1}^{N} x_{i}}{N}$$"
   ]
  },
  {
   "cell_type": "code",
   "execution_count": 0,
   "metadata": {
    "colab": {
     "base_uri": "https://localhost:8080/",
     "height": 34
    },
    "colab_type": "code",
    "id": "9P8_D4759H_T",
    "outputId": "c81bb220-e682-48b3-f82e-137478960b29"
   },
   "outputs": [
    {
     "data": {
      "text/plain": [
       "2.5"
      ]
     },
     "execution_count": 141,
     "metadata": {
      "tags": []
     },
     "output_type": "execute_result"
    }
   ],
   "source": [
    "def promedio(x):\n",
    "  N=len(x)\n",
    "  return sum(x)/N\n",
    "\n",
    "promedio(my_list)"
   ]
  },
  {
   "cell_type": "markdown",
   "metadata": {
    "colab_type": "text",
    "id": "EmcuC7sT9GZH"
   },
   "source": [
    "$$\\sigma = \\sqrt{\\frac{\\sum_{i=1}^{N} (x_{i}-\\bar{X})^{2}}{N}}$$"
   ]
  },
  {
   "cell_type": "code",
   "execution_count": 0,
   "metadata": {
    "colab": {
     "base_uri": "https://localhost:8080/",
     "height": 34
    },
    "colab_type": "code",
    "id": "8P5A5tBX83FV",
    "outputId": "b4dc21cc-19f9-41bd-b89b-bb1de7379b5f"
   },
   "outputs": [
    {
     "data": {
      "text/plain": [
       "1.118033988749895"
      ]
     },
     "execution_count": 139,
     "metadata": {
      "tags": []
     },
     "output_type": "execute_result"
    }
   ],
   "source": [
    "def desviacion(x):\n",
    "  N = len(x)\n",
    "  \n",
    "  mean = promedio(x)\n",
    "  sum_diff_2 = 0 #suma de las desviaciones cuadradas con respecto a la media\n",
    "  for elem in x:\n",
    "    sum_diff_2 = sum_diff_2 + (elem-mean)**2\n",
    "    \n",
    "  sigma = (sum_diff_2/N)**(1/2)\n",
    "  return sigma\n",
    "\n",
    "desviacion(my_list)"
   ]
  },
  {
   "cell_type": "markdown",
   "metadata": {
    "colab_type": "text",
    "id": "zmvmYefG-jhN"
   },
   "source": [
    "\n",
    "## 2.2 Scope"
   ]
  },
  {
   "cell_type": "markdown",
   "metadata": {
    "colab_type": "text",
    "id": "-gmthJgdEO00"
   },
   "source": [
    "El* scope* o alcance de una variable se refiere a los lugares en que se puede ver o acceder a una variable."
   ]
  },
  {
   "cell_type": "code",
   "execution_count": 0,
   "metadata": {
    "colab": {
     "base_uri": "https://localhost:8080/",
     "height": 51
    },
    "colab_type": "code",
    "id": "aQNJaF8sZYZq",
    "outputId": "a2912799-3320-459f-c055-d229694b4ca8"
   },
   "outputs": [
    {
     "name": "stdout",
     "output_type": "stream",
     "text": [
      "10\n",
      "20\n"
     ]
    }
   ],
   "source": [
    "#Las variables definidas dentro de una función no tienen impacto en las variables definidas a fuera\n",
    "x = 20\n",
    "def  my_funct(numero):\n",
    "  x = numero\n",
    "  return x\n",
    "\n",
    "print(my_funct(10))\n",
    "print(x)"
   ]
  },
  {
   "cell_type": "code",
   "execution_count": 0,
   "metadata": {
    "colab": {
     "base_uri": "https://localhost:8080/",
     "height": 34
    },
    "colab_type": "code",
    "id": "48zdPnjMAwu7",
    "outputId": "6f5f8f8a-9199-4adc-958d-156d2c184d03"
   },
   "outputs": [
    {
     "data": {
      "text/plain": [
       "30"
      ]
     },
     "execution_count": 148,
     "metadata": {
      "tags": []
     },
     "output_type": "execute_result"
    }
   ],
   "source": [
    "#puedo reutilizar variables definidas afuera de la función\n",
    "def  my_funct(numero):\n",
    "  \n",
    " \n",
    "  return x+numero\n",
    "\n",
    "my_funct(10)"
   ]
  },
  {
   "cell_type": "code",
   "execution_count": 0,
   "metadata": {
    "colab": {
     "base_uri": "https://localhost:8080/",
     "height": 51
    },
    "colab_type": "code",
    "id": "-VnyO9V0Zhsd",
    "outputId": "cb190378-d841-4344-8e58-32a3218c15fe"
   },
   "outputs": [
    {
     "name": "stdout",
     "output_type": "stream",
     "text": [
      "20\n",
      "10\n"
     ]
    }
   ],
   "source": [
    "#Con \"global\" las declaraciones dentro de la función al ejecutarse pueden cambiar al valor original de la variable definida a fuera de la función\n",
    "#En general no se recomiendo el uso de \"global\"\n",
    "def  my_funct(numero):\n",
    "  global x\n",
    "  x = numero\n",
    "  return x\n",
    "\n",
    "print(x) #x antes\n",
    "my_funct(10) #ejecutar función sobre x\n",
    "print(x) #x después"
   ]
  },
  {
   "cell_type": "markdown",
   "metadata": {
    "colab_type": "text",
    "id": "in3vAvuP-jhT"
   },
   "source": [
    "## 2.3 Programación orientada a objetos (OOP)"
   ]
  },
  {
   "cell_type": "markdown",
   "metadata": {
    "colab_type": "text",
    "id": "BvKG3bBWFOIp"
   },
   "source": [
    "\n",
    "\n",
    "1. Clase: Propiedad y comportamiento de un objeto concreto.\n",
    "2. Objeto: Instancia de una clase\n",
    "3. Atributo: Propiedad del objeto\n",
    "4. Método: Lo que un objeto puede hacer \n",
    "\n",
    "\n",
    "\n",
    "Más documentación<br><br>\n",
    "Métodos especiales: https://docs.python.org/3/reference/datamodel.html#special-method-names<br>\n"
   ]
  },
  {
   "cell_type": "code",
   "execution_count": 0,
   "metadata": {
    "colab": {
     "base_uri": "https://localhost:8080/",
     "height": 34
    },
    "colab_type": "code",
    "id": "fv67pNMNbJaQ",
    "outputId": "1ada370b-4033-4bff-bd59-79c3910ce954"
   },
   "outputs": [
    {
     "data": {
      "text/plain": [
       "'hola Diego'"
      ]
     },
     "execution_count": 106,
     "metadata": {
      "tags": []
     },
     "output_type": "execute_result"
    }
   ],
   "source": [
    "'hola {nombre}'.format(nombre='Diego')"
   ]
  },
  {
   "cell_type": "code",
   "execution_count": 0,
   "metadata": {
    "colab": {},
    "colab_type": "code",
    "id": "GfL4TvIN-jhU"
   },
   "outputs": [],
   "source": [
    "class Book():\n",
    "  \n",
    "    #Método constructor: Función para instanciar un objeto. \n",
    "    def __init__(self, title, author, pages): \n",
    "        print(\"A book is created\") #mensaje que se muestra en patalla al crear un objeto\n",
    "        \n",
    "        #Atributos de cada objeto\n",
    "        self.title = title \n",
    "        self.author = author\n",
    "        self.pages = pages\n",
    "\n",
    "    #Métodos especiales\n",
    "    def __str__(self): #al utilizar la función print() sobre un objeto retorna un string con todos sus atributos de forma. sin este método al imprimir un objeto este se \n",
    "        return \"Title:%s , author:%s, pages:%s \" %(self.title, self.author, self.pages)\n",
    "\n",
    "    def __len__(self):#al utilizar la función len() sobre un objeto retorna el número de páginas del libro\n",
    "        return self.pages\n",
    "\n",
    "        \n",
    "    #método    \n",
    "    def saludar(self, saludo):\n",
    "      return '{s} {autor}'.format(s=saludo, autor=self.author)\n",
    "\n"
   ]
  },
  {
   "cell_type": "code",
   "execution_count": 0,
   "metadata": {
    "colab": {
     "base_uri": "https://localhost:8080/",
     "height": 51
    },
    "colab_type": "code",
    "id": "I1K2MWjkEwcX",
    "outputId": "4c6c48b7-51ae-4f8f-f4b4-92d24b754c44"
   },
   "outputs": [
    {
     "name": "stdout",
     "output_type": "stream",
     "text": [
      "A book is created\n",
      "A book is destroyed\n"
     ]
    }
   ],
   "source": [
    "# instanciar un objeto\n",
    "book = Book(\"Machine Learning A Probabilistic Perspective\", \"K. Murphy\", 1000) "
   ]
  },
  {
   "cell_type": "code",
   "execution_count": 0,
   "metadata": {
    "colab": {
     "base_uri": "https://localhost:8080/",
     "height": 34
    },
    "colab_type": "code",
    "id": "f5d3Sa62Lh-G",
    "outputId": "1514adec-3386-40c6-ef9a-c80d75109fc8"
   },
   "outputs": [
    {
     "data": {
      "text/plain": [
       "<__main__.Book at 0x7fda66dcd630>"
      ]
     },
     "execution_count": 183,
     "metadata": {
      "tags": []
     },
     "output_type": "execute_result"
    }
   ],
   "source": [
    "book"
   ]
  },
  {
   "cell_type": "code",
   "execution_count": 0,
   "metadata": {
    "colab": {
     "base_uri": "https://localhost:8080/",
     "height": 34
    },
    "colab_type": "code",
    "id": "7Hc-l_nia4ab",
    "outputId": "ba3b655e-08e1-4a37-f26e-32b639d0df2c"
   },
   "outputs": [
    {
     "data": {
      "text/plain": [
       "'Machine Learning A Probabilistic Perspective'"
      ]
     },
     "execution_count": 184,
     "metadata": {
      "tags": []
     },
     "output_type": "execute_result"
    }
   ],
   "source": [
    "#Acceder a un atributo de un objeto\n",
    "book.title"
   ]
  },
  {
   "cell_type": "code",
   "execution_count": 0,
   "metadata": {
    "colab": {
     "base_uri": "https://localhost:8080/",
     "height": 34
    },
    "colab_type": "code",
    "id": "A-cLdSyVbBEJ",
    "outputId": "c6e7e920-7858-4c2d-82a2-6eccc3263411"
   },
   "outputs": [
    {
     "name": "stdout",
     "output_type": "stream",
     "text": [
      "Title:Machine Learning A Probabilistic Perspective , author:K. Murphy, pages:1000 \n"
     ]
    }
   ],
   "source": [
    "#Método especial: print\n",
    "print(book)"
   ]
  },
  {
   "cell_type": "code",
   "execution_count": 0,
   "metadata": {
    "colab": {
     "base_uri": "https://localhost:8080/",
     "height": 34
    },
    "colab_type": "code",
    "id": "uvEwxqyvLxEB",
    "outputId": "d4bad642-b0af-4fc0-a474-110bc4c319c9"
   },
   "outputs": [
    {
     "data": {
      "text/plain": [
       "1000"
      ]
     },
     "execution_count": 187,
     "metadata": {
      "tags": []
     },
     "output_type": "execute_result"
    }
   ],
   "source": [
    "#Método especial:len\n",
    "len(book)\n"
   ]
  },
  {
   "cell_type": "code",
   "execution_count": 0,
   "metadata": {
    "colab": {
     "base_uri": "https://localhost:8080/",
     "height": 34
    },
    "colab_type": "code",
    "id": "hu1CXN52L2bZ",
    "outputId": "bfe30b83-00bd-4673-ff46-76ffb4f802ef"
   },
   "outputs": [
    {
     "data": {
      "text/plain": [
       "'Hola K. Murphy'"
      ]
     },
     "execution_count": 186,
     "metadata": {
      "tags": []
     },
     "output_type": "execute_result"
    }
   ],
   "source": [
    "#Método normal\n",
    "book.saludar('Hola')"
   ]
  },
  {
   "cell_type": "markdown",
   "metadata": {
    "colab_type": "text",
    "id": "kygY8vFH-jhW"
   },
   "source": [
    "# 3. Python Level 3\n",
    "\n",
    "\n",
    "Instalar librerías en python, comandos: pip y conda\n",
    "\n",
    "Más documentación:\n",
    "\n",
    "https://packaging.python.org/tutorials/installing-packages/\n",
    "\n",
    "https://conda.io/docs/user-guide/tasks/manage-pkgs.html#installing-packages\n",
    "\n",
    "\n"
   ]
  },
  {
   "cell_type": "markdown",
   "metadata": {
    "colab_type": "text",
    "id": "itobwZ8u-jhW"
   },
   "source": [
    "## 3.1 Numpy\n",
    "\n",
    "100 numpy exercises\n",
    "\n",
    "https://drive.google.com/file/d/1GeqpxhbqXDv1Fq8GshnbdP6oUvpxSQv9/view\n",
    "\n"
   ]
  },
  {
   "cell_type": "code",
   "execution_count": 0,
   "metadata": {
    "colab": {},
    "colab_type": "code",
    "id": "rzsuKn07bwYJ"
   },
   "outputs": [],
   "source": [
    "# as: renombrar librería importada\n",
    "import numpy as np"
   ]
  },
  {
   "cell_type": "code",
   "execution_count": 0,
   "metadata": {
    "colab": {
     "base_uri": "https://localhost:8080/",
     "height": 34
    },
    "colab_type": "code",
    "id": "J5bK48yeb9F4",
    "outputId": "df7370da-950f-44d4-baa9-2261d9107d03"
   },
   "outputs": [
    {
     "data": {
      "text/plain": [
       "array([1, 2, 3])"
      ]
     },
     "execution_count": 194,
     "metadata": {
      "tags": []
     },
     "output_type": "execute_result"
    }
   ],
   "source": [
    "#python crea los vectores como vectores fila\n",
    "a = np.array([1, 2, 3])\n",
    "a"
   ]
  },
  {
   "cell_type": "code",
   "execution_count": 0,
   "metadata": {
    "colab": {
     "base_uri": "https://localhost:8080/",
     "height": 34
    },
    "colab_type": "code",
    "id": "B9FqZTqLcnjD",
    "outputId": "16752bbf-b3de-49df-9324-824c65e7b8f8"
   },
   "outputs": [
    {
     "data": {
      "text/plain": [
       "3"
      ]
     },
     "execution_count": 195,
     "metadata": {
      "tags": []
     },
     "output_type": "execute_result"
    }
   ],
   "source": [
    "#largo del vector\n",
    "len(a)"
   ]
  },
  {
   "cell_type": "code",
   "execution_count": 0,
   "metadata": {
    "colab": {
     "base_uri": "https://localhost:8080/",
     "height": 34
    },
    "colab_type": "code",
    "id": "8qLO0ZumcppG",
    "outputId": "dab99ef7-191f-48e7-bb5c-cab0dbdaf24a"
   },
   "outputs": [
    {
     "data": {
      "text/plain": [
       "(3,)"
      ]
     },
     "execution_count": 196,
     "metadata": {
      "tags": []
     },
     "output_type": "execute_result"
    }
   ],
   "source": [
    "#dimensión del vector\n",
    "a.shape"
   ]
  },
  {
   "cell_type": "code",
   "execution_count": 0,
   "metadata": {
    "colab": {
     "base_uri": "https://localhost:8080/",
     "height": 34
    },
    "colab_type": "code",
    "id": "Xk_gHicFctOH",
    "outputId": "b0de0e04-05d1-4ebb-8c3e-d02f93abbbef"
   },
   "outputs": [
    {
     "data": {
      "text/plain": [
       "array([[1, 2, 3]])"
      ]
     },
     "execution_count": 197,
     "metadata": {
      "tags": []
     },
     "output_type": "execute_result"
    }
   ],
   "source": [
    "#matriz de una fila con tres columnas\n",
    "b = np.array([[1, 2, 3]])\n",
    "b"
   ]
  },
  {
   "cell_type": "code",
   "execution_count": 0,
   "metadata": {
    "colab": {
     "base_uri": "https://localhost:8080/",
     "height": 34
    },
    "colab_type": "code",
    "id": "vnmhZJHUNqNS",
    "outputId": "87ec1093-9af1-49a2-c7d0-ff0393016617"
   },
   "outputs": [
    {
     "data": {
      "text/plain": [
       "(1, 3)"
      ]
     },
     "execution_count": 198,
     "metadata": {
      "tags": []
     },
     "output_type": "execute_result"
    }
   ],
   "source": [
    "b.shape"
   ]
  },
  {
   "cell_type": "code",
   "execution_count": 0,
   "metadata": {
    "colab": {
     "base_uri": "https://localhost:8080/",
     "height": 68
    },
    "colab_type": "code",
    "id": "C8FtUpP5Rfat",
    "outputId": "985b9914-10aa-4fd3-b1b2-7d8787fc2e4a"
   },
   "outputs": [
    {
     "data": {
      "text/plain": [
       "array([[1],\n",
       "       [2],\n",
       "       [3]])"
      ]
     },
     "execution_count": 228,
     "metadata": {
      "tags": []
     },
     "output_type": "execute_result"
    }
   ],
   "source": [
    "#vector columna\n",
    "\n",
    "c = b.T #el método T transpone un objeto array\n",
    "c"
   ]
  },
  {
   "cell_type": "markdown",
   "metadata": {
    "colab_type": "text",
    "id": "ZSfbQed7R1lQ"
   },
   "source": [
    "Matrices con listas"
   ]
  },
  {
   "cell_type": "code",
   "execution_count": 0,
   "metadata": {
    "colab": {
     "base_uri": "https://localhost:8080/",
     "height": 68
    },
    "colab_type": "code",
    "id": "mCCCkhSXRzLk",
    "outputId": "209828dd-c84d-4347-fc95-e8025ea23041"
   },
   "outputs": [
    {
     "name": "stdout",
     "output_type": "stream",
     "text": [
      "[[1, 2, 3], [2, 2, 2]]\n",
      "[1, 2, 3]\n",
      "[3, 2]\n"
     ]
    }
   ],
   "source": [
    "#dos filas y tres columnas\n",
    "matriz = [[1,2,3], [2,2,2]]\n",
    "print(matriz)\n",
    "#primera fila\n",
    "print(matriz[0])\n",
    "\n",
    "#tercera columna\n",
    "print([elem[2] for elem in matriz])"
   ]
  },
  {
   "cell_type": "markdown",
   "metadata": {
    "colab_type": "text",
    "id": "yz4r5zT_R4h0"
   },
   "source": [
    "Matrices con numpy"
   ]
  },
  {
   "cell_type": "code",
   "execution_count": 0,
   "metadata": {
    "colab": {
     "base_uri": "https://localhost:8080/",
     "height": 51
    },
    "colab_type": "code",
    "id": "DMjyxzDrdLkh",
    "outputId": "17d671f1-adeb-424e-b72b-27159aa625eb"
   },
   "outputs": [
    {
     "data": {
      "text/plain": [
       "array([[1, 2, 3],\n",
       "       [2, 2, 2]])"
      ]
     },
     "execution_count": 201,
     "metadata": {
      "tags": []
     },
     "output_type": "execute_result"
    }
   ],
   "source": [
    "#matriz de dos filas y tres columnas\n",
    "matriz = np.array([[1, 2, 3], [2, 2, 2]])\n",
    "matriz"
   ]
  },
  {
   "cell_type": "code",
   "execution_count": 0,
   "metadata": {
    "colab": {
     "base_uri": "https://localhost:8080/",
     "height": 34
    },
    "colab_type": "code",
    "id": "0M3lmSedPhSp",
    "outputId": "0fa9f8db-51a2-4107-fd08-0cef121bf311"
   },
   "outputs": [
    {
     "data": {
      "text/plain": [
       "3"
      ]
     },
     "execution_count": 213,
     "metadata": {
      "tags": []
     },
     "output_type": "execute_result"
    }
   ],
   "source": [
    "#elemento que esta en la primera fila y última columa\n",
    "matriz[0][2]"
   ]
  },
  {
   "cell_type": "code",
   "execution_count": 0,
   "metadata": {
    "colab": {
     "base_uri": "https://localhost:8080/",
     "height": 34
    },
    "colab_type": "code",
    "id": "ue-6TnjQdQ5T",
    "outputId": "59d1945a-02d8-4a69-ecf0-23fb9c5f364c"
   },
   "outputs": [
    {
     "data": {
      "text/plain": [
       "array([1, 2, 3])"
      ]
     },
     "execution_count": 202,
     "metadata": {
      "tags": []
     },
     "output_type": "execute_result"
    }
   ],
   "source": [
    "#primera fila\n",
    "matriz[0]"
   ]
  },
  {
   "cell_type": "code",
   "execution_count": 0,
   "metadata": {
    "colab": {
     "base_uri": "https://localhost:8080/",
     "height": 34
    },
    "colab_type": "code",
    "id": "T2M9-ifHO1U5",
    "outputId": "677f2507-154e-4e97-a120-eb71b6977d60"
   },
   "outputs": [
    {
     "data": {
      "text/plain": [
       "array([1, 2, 3])"
      ]
     },
     "execution_count": 218,
     "metadata": {
      "tags": []
     },
     "output_type": "execute_result"
    }
   ],
   "source": [
    "#primera columna\n",
    "matriz[:, 1]"
   ]
  },
  {
   "cell_type": "code",
   "execution_count": 0,
   "metadata": {
    "colab": {
     "base_uri": "https://localhost:8080/",
     "height": 51
    },
    "colab_type": "code",
    "id": "qYsVQJgtO5a2",
    "outputId": "7b9c47f6-9211-401c-8ea8-a15627aea87f"
   },
   "outputs": [
    {
     "data": {
      "text/plain": [
       "array([[1, 2, 3],\n",
       "       [2, 2, 2]])"
      ]
     },
     "execution_count": 209,
     "metadata": {
      "tags": []
     },
     "output_type": "execute_result"
    }
   ],
   "source": [
    "matriz[:][0:2]"
   ]
  },
  {
   "cell_type": "code",
   "execution_count": 0,
   "metadata": {
    "colab": {
     "base_uri": "https://localhost:8080/",
     "height": 34
    },
    "colab_type": "code",
    "id": "svBH15-VOwa2",
    "outputId": "c4defba7-0cda-4f94-a594-e4415ea07bc9"
   },
   "outputs": [
    {
     "data": {
      "text/plain": [
       "2"
      ]
     },
     "execution_count": 205,
     "metadata": {
      "tags": []
     },
     "output_type": "execute_result"
    }
   ],
   "source": [
    "#largo de la matriz = número de filas\n",
    "len(matriz)"
   ]
  },
  {
   "cell_type": "code",
   "execution_count": 0,
   "metadata": {
    "colab": {
     "base_uri": "https://localhost:8080/",
     "height": 34
    },
    "colab_type": "code",
    "id": "pyf1xSP8OXiD",
    "outputId": "2dee901d-661f-429e-b674-27b3ccd061aa"
   },
   "outputs": [
    {
     "data": {
      "text/plain": [
       "(2, 3)"
      ]
     },
     "execution_count": 203,
     "metadata": {
      "tags": []
     },
     "output_type": "execute_result"
    }
   ],
   "source": [
    "#dimensión de la matriz\n",
    "matriz.shape"
   ]
  },
  {
   "cell_type": "code",
   "execution_count": 0,
   "metadata": {
    "colab": {
     "base_uri": "https://localhost:8080/",
     "height": 51
    },
    "colab_type": "code",
    "id": "ea84MwE1S1R_",
    "outputId": "300add74-de04-42fc-f794-ba50a212839c"
   },
   "outputs": [
    {
     "name": "stdout",
     "output_type": "stream",
     "text": [
      "Producto cruz:  [2 4 6]\n",
      "Producto punto:  12\n"
     ]
    }
   ],
   "source": [
    "a=np.array([1,2,3])\n",
    "b=np.array([2,2,2])\n",
    "\n",
    "print('Producto cruz: ', a*b)\n",
    "print('Producto punto: ', np.dot(a, b))"
   ]
  },
  {
   "cell_type": "code",
   "execution_count": 0,
   "metadata": {
    "colab": {
     "base_uri": "https://localhost:8080/",
     "height": 51
    },
    "colab_type": "code",
    "id": "-QrZ316TdmMV",
    "outputId": "39863558-90c7-4f6e-bf31-1bc9487ab58f"
   },
   "outputs": [
    {
     "data": {
      "text/plain": [
       "array([[14],\n",
       "       [12]])"
      ]
     },
     "execution_count": 234,
     "metadata": {
      "tags": []
     },
     "output_type": "execute_result"
    }
   ],
   "source": [
    "#Producto matricial, la dimensión de las matrices debe ser: n1 x m y m x n2\n",
    "np.dot(matriz, c)"
   ]
  },
  {
   "cell_type": "code",
   "execution_count": 0,
   "metadata": {
    "colab": {
     "base_uri": "https://localhost:8080/",
     "height": 34
    },
    "colab_type": "code",
    "id": "xRoRzewDd3tD",
    "outputId": "3aa80f67-53b1-4ff4-ab02-e060bbe623d6"
   },
   "outputs": [
    {
     "data": {
      "text/plain": [
       "7.38905609893065"
      ]
     },
     "execution_count": 249,
     "metadata": {
      "tags": []
     },
     "output_type": "execute_result"
    }
   ],
   "source": [
    "np.exp(2)"
   ]
  },
  {
   "cell_type": "code",
   "execution_count": 0,
   "metadata": {
    "colab": {
     "base_uri": "https://localhost:8080/",
     "height": 34
    },
    "colab_type": "code",
    "id": "fkDHhZfBd5lc",
    "outputId": "d97e5556-2a95-44f8-949c-859ff78dc663"
   },
   "outputs": [
    {
     "data": {
      "text/plain": [
       "3.141592653589793"
      ]
     },
     "execution_count": 250,
     "metadata": {
      "tags": []
     },
     "output_type": "execute_result"
    }
   ],
   "source": [
    "np.pi"
   ]
  },
  {
   "cell_type": "code",
   "execution_count": 0,
   "metadata": {
    "colab": {
     "base_uri": "https://localhost:8080/",
     "height": 34
    },
    "colab_type": "code",
    "id": "QhekUsfHd854",
    "outputId": "00f567d4-29ad-4269-e314-3f37efe64057"
   },
   "outputs": [
    {
     "data": {
      "text/plain": [
       "0.0"
      ]
     },
     "execution_count": 251,
     "metadata": {
      "tags": []
     },
     "output_type": "execute_result"
    }
   ],
   "source": [
    "np.log(1)"
   ]
  },
  {
   "cell_type": "code",
   "execution_count": 0,
   "metadata": {
    "colab": {
     "base_uri": "https://localhost:8080/",
     "height": 85
    },
    "colab_type": "code",
    "id": "H_mRwIKuVa-c",
    "outputId": "5d0a9dfb-2686-4ff4-cdbd-afc532abc40c"
   },
   "outputs": [
    {
     "name": "stdout",
     "output_type": "stream",
     "text": [
      "mínimo de 'a':  1\n",
      "máximo de 'a':  3\n",
      "promedio de'a':  2.0\n",
      "desviación de 'a':  0.816496580927726\n"
     ]
    }
   ],
   "source": [
    "print(\"mínimo de 'a': \", a.min())\n",
    "print(\"máximo de 'a': \", a.max())\n",
    "print(\"promedio de'a': \", a.mean())\n",
    "print(\"desviación de 'a': \", a.std())"
   ]
  }
 ],
 "metadata": {
  "colab": {
   "collapsed_sections": [],
   "name": "Auxiliar1.ipynb",
   "provenance": [],
   "toc_visible": true,
   "version": "0.3.2"
  },
  "kernelspec": {
   "display_name": "Python 3",
   "language": "python",
   "name": "python3"
  },
  "language_info": {
   "codemirror_mode": {
    "name": "ipython",
    "version": 3
   },
   "file_extension": ".py",
   "mimetype": "text/x-python",
   "name": "python",
   "nbconvert_exporter": "python",
   "pygments_lexer": "ipython3",
   "version": "3.8.5"
  },
  "latex_envs": {
   "LaTeX_envs_menu_present": true,
   "autoclose": false,
   "autocomplete": true,
   "bibliofile": "biblio.bib",
   "cite_by": "apalike",
   "current_citInitial": 1,
   "eqLabelWithNumbers": true,
   "eqNumInitial": 1,
   "hotkeys": {
    "equation": "Ctrl-E",
    "itemize": "Ctrl-I"
   },
   "labels_anchors": false,
   "latex_user_defs": false,
   "report_style_numbering": false,
   "user_envs_cfg": false
  }
 },
 "nbformat": 4,
 "nbformat_minor": 1
}
