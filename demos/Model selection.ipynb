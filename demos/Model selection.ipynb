{
 "cells": [
  {
   "cell_type": "markdown",
   "metadata": {},
   "source": [
    "This lab on Model Selection using Validation Sets and Cross-Validation is a Python adaptation of p. 248-251 of \"Introduction to Statistical Learning with Applications in R\" by Gareth James, Daniela Witten, Trevor Hastie and Robert Tibshirani. Adapted by R. Jordan Crouser at Smith College for SDS293: Machine Learning (Spring 2016)."
   ]
  },
  {
   "cell_type": "code",
   "execution_count": 13,
   "metadata": {
    "ExecuteTime": {
     "end_time": "2021-05-03T01:31:59.827530Z",
     "start_time": "2021-05-03T01:31:59.810507Z"
    }
   },
   "outputs": [],
   "source": [
    "%matplotlib inline\n",
    "import pandas as pd\n",
    "import numpy as np\n",
    "import itertools\n",
    "import statsmodels.api as sm\n",
    "import matplotlib.pyplot as plt"
   ]
  },
  {
   "cell_type": "markdown",
   "metadata": {},
   "source": [
    "# Model selection using the Validation Set Approach\n",
    "\n",
    "In Lab 8, we saw that it is possible to choose among a set of models of different\n",
    "sizes using $C_p$, BIC, and adjusted $R^2$. We will now consider how to do this\n",
    "using the validation set and cross-validation approaches.\n",
    "\n",
    "As in Lab 8, we'll be working with the `Hitters` dataset from `ISLR`. Since we're trying to predict `Salary` and we know from last time that some are missing, let's first drop all the rows with missing values and do a little cleanup:"
   ]
  },
  {
   "cell_type": "code",
   "execution_count": 14,
   "metadata": {
    "ExecuteTime": {
     "end_time": "2021-05-03T01:32:00.402480Z",
     "start_time": "2021-05-03T01:32:00.369427Z"
    }
   },
   "outputs": [
    {
     "data": {
      "text/html": [
       "<div>\n",
       "<style scoped>\n",
       "    .dataframe tbody tr th:only-of-type {\n",
       "        vertical-align: middle;\n",
       "    }\n",
       "\n",
       "    .dataframe tbody tr th {\n",
       "        vertical-align: top;\n",
       "    }\n",
       "\n",
       "    .dataframe thead th {\n",
       "        text-align: right;\n",
       "    }\n",
       "</style>\n",
       "<table border=\"1\" class=\"dataframe\">\n",
       "  <thead>\n",
       "    <tr style=\"text-align: right;\">\n",
       "      <th></th>\n",
       "      <th>Unnamed: 0</th>\n",
       "      <th>AtBat</th>\n",
       "      <th>Hits</th>\n",
       "      <th>HmRun</th>\n",
       "      <th>Runs</th>\n",
       "      <th>RBI</th>\n",
       "      <th>Walks</th>\n",
       "      <th>Years</th>\n",
       "      <th>CAtBat</th>\n",
       "      <th>CHits</th>\n",
       "      <th>...</th>\n",
       "      <th>CRuns</th>\n",
       "      <th>CRBI</th>\n",
       "      <th>CWalks</th>\n",
       "      <th>League</th>\n",
       "      <th>Division</th>\n",
       "      <th>PutOuts</th>\n",
       "      <th>Assists</th>\n",
       "      <th>Errors</th>\n",
       "      <th>Salary</th>\n",
       "      <th>NewLeague</th>\n",
       "    </tr>\n",
       "  </thead>\n",
       "  <tbody>\n",
       "    <tr>\n",
       "      <th>0</th>\n",
       "      <td>-Andy Allanson</td>\n",
       "      <td>293</td>\n",
       "      <td>66</td>\n",
       "      <td>1</td>\n",
       "      <td>30</td>\n",
       "      <td>29</td>\n",
       "      <td>14</td>\n",
       "      <td>1</td>\n",
       "      <td>293</td>\n",
       "      <td>66</td>\n",
       "      <td>...</td>\n",
       "      <td>30</td>\n",
       "      <td>29</td>\n",
       "      <td>14</td>\n",
       "      <td>A</td>\n",
       "      <td>E</td>\n",
       "      <td>446</td>\n",
       "      <td>33</td>\n",
       "      <td>20</td>\n",
       "      <td>NaN</td>\n",
       "      <td>A</td>\n",
       "    </tr>\n",
       "    <tr>\n",
       "      <th>1</th>\n",
       "      <td>-Alan Ashby</td>\n",
       "      <td>315</td>\n",
       "      <td>81</td>\n",
       "      <td>7</td>\n",
       "      <td>24</td>\n",
       "      <td>38</td>\n",
       "      <td>39</td>\n",
       "      <td>14</td>\n",
       "      <td>3449</td>\n",
       "      <td>835</td>\n",
       "      <td>...</td>\n",
       "      <td>321</td>\n",
       "      <td>414</td>\n",
       "      <td>375</td>\n",
       "      <td>N</td>\n",
       "      <td>W</td>\n",
       "      <td>632</td>\n",
       "      <td>43</td>\n",
       "      <td>10</td>\n",
       "      <td>475.0</td>\n",
       "      <td>N</td>\n",
       "    </tr>\n",
       "    <tr>\n",
       "      <th>2</th>\n",
       "      <td>-Alvin Davis</td>\n",
       "      <td>479</td>\n",
       "      <td>130</td>\n",
       "      <td>18</td>\n",
       "      <td>66</td>\n",
       "      <td>72</td>\n",
       "      <td>76</td>\n",
       "      <td>3</td>\n",
       "      <td>1624</td>\n",
       "      <td>457</td>\n",
       "      <td>...</td>\n",
       "      <td>224</td>\n",
       "      <td>266</td>\n",
       "      <td>263</td>\n",
       "      <td>A</td>\n",
       "      <td>W</td>\n",
       "      <td>880</td>\n",
       "      <td>82</td>\n",
       "      <td>14</td>\n",
       "      <td>480.0</td>\n",
       "      <td>A</td>\n",
       "    </tr>\n",
       "    <tr>\n",
       "      <th>3</th>\n",
       "      <td>-Andre Dawson</td>\n",
       "      <td>496</td>\n",
       "      <td>141</td>\n",
       "      <td>20</td>\n",
       "      <td>65</td>\n",
       "      <td>78</td>\n",
       "      <td>37</td>\n",
       "      <td>11</td>\n",
       "      <td>5628</td>\n",
       "      <td>1575</td>\n",
       "      <td>...</td>\n",
       "      <td>828</td>\n",
       "      <td>838</td>\n",
       "      <td>354</td>\n",
       "      <td>N</td>\n",
       "      <td>E</td>\n",
       "      <td>200</td>\n",
       "      <td>11</td>\n",
       "      <td>3</td>\n",
       "      <td>500.0</td>\n",
       "      <td>N</td>\n",
       "    </tr>\n",
       "    <tr>\n",
       "      <th>4</th>\n",
       "      <td>-Andres Galarraga</td>\n",
       "      <td>321</td>\n",
       "      <td>87</td>\n",
       "      <td>10</td>\n",
       "      <td>39</td>\n",
       "      <td>42</td>\n",
       "      <td>30</td>\n",
       "      <td>2</td>\n",
       "      <td>396</td>\n",
       "      <td>101</td>\n",
       "      <td>...</td>\n",
       "      <td>48</td>\n",
       "      <td>46</td>\n",
       "      <td>33</td>\n",
       "      <td>N</td>\n",
       "      <td>E</td>\n",
       "      <td>805</td>\n",
       "      <td>40</td>\n",
       "      <td>4</td>\n",
       "      <td>91.5</td>\n",
       "      <td>N</td>\n",
       "    </tr>\n",
       "  </tbody>\n",
       "</table>\n",
       "<p>5 rows × 21 columns</p>\n",
       "</div>"
      ],
      "text/plain": [
       "          Unnamed: 0  AtBat  Hits  HmRun  Runs  RBI  Walks  Years  CAtBat  \\\n",
       "0     -Andy Allanson    293    66      1    30   29     14      1     293   \n",
       "1        -Alan Ashby    315    81      7    24   38     39     14    3449   \n",
       "2       -Alvin Davis    479   130     18    66   72     76      3    1624   \n",
       "3      -Andre Dawson    496   141     20    65   78     37     11    5628   \n",
       "4  -Andres Galarraga    321    87     10    39   42     30      2     396   \n",
       "\n",
       "   CHits  ...  CRuns  CRBI  CWalks  League Division PutOuts  Assists  Errors  \\\n",
       "0     66  ...     30    29      14       A        E     446       33      20   \n",
       "1    835  ...    321   414     375       N        W     632       43      10   \n",
       "2    457  ...    224   266     263       A        W     880       82      14   \n",
       "3   1575  ...    828   838     354       N        E     200       11       3   \n",
       "4    101  ...     48    46      33       N        E     805       40       4   \n",
       "\n",
       "   Salary  NewLeague  \n",
       "0     NaN          A  \n",
       "1   475.0          N  \n",
       "2   480.0          A  \n",
       "3   500.0          N  \n",
       "4    91.5          N  \n",
       "\n",
       "[5 rows x 21 columns]"
      ]
     },
     "execution_count": 14,
     "metadata": {},
     "output_type": "execute_result"
    }
   ],
   "source": [
    "df = pd.read_csv('../datos/Hitters.csv')\n",
    "\n",
    "df.head()\n"
   ]
  },
  {
   "cell_type": "code",
   "execution_count": 15,
   "metadata": {
    "ExecuteTime": {
     "end_time": "2021-05-03T01:32:01.069464Z",
     "start_time": "2021-05-03T01:32:01.023926Z"
    }
   },
   "outputs": [
    {
     "data": {
      "text/html": [
       "<div>\n",
       "<style scoped>\n",
       "    .dataframe tbody tr th:only-of-type {\n",
       "        vertical-align: middle;\n",
       "    }\n",
       "\n",
       "    .dataframe tbody tr th {\n",
       "        vertical-align: top;\n",
       "    }\n",
       "\n",
       "    .dataframe thead th {\n",
       "        text-align: right;\n",
       "    }\n",
       "</style>\n",
       "<table border=\"1\" class=\"dataframe\">\n",
       "  <thead>\n",
       "    <tr style=\"text-align: right;\">\n",
       "      <th></th>\n",
       "      <th>AtBat</th>\n",
       "      <th>Hits</th>\n",
       "      <th>HmRun</th>\n",
       "      <th>Runs</th>\n",
       "      <th>RBI</th>\n",
       "      <th>Walks</th>\n",
       "      <th>Years</th>\n",
       "      <th>CAtBat</th>\n",
       "      <th>CHits</th>\n",
       "      <th>CHmRun</th>\n",
       "      <th>CRuns</th>\n",
       "      <th>CRBI</th>\n",
       "      <th>CWalks</th>\n",
       "      <th>PutOuts</th>\n",
       "      <th>Assists</th>\n",
       "      <th>Errors</th>\n",
       "      <th>League_N</th>\n",
       "      <th>Division_W</th>\n",
       "      <th>NewLeague_N</th>\n",
       "    </tr>\n",
       "  </thead>\n",
       "  <tbody>\n",
       "    <tr>\n",
       "      <th>1</th>\n",
       "      <td>315.0</td>\n",
       "      <td>81.0</td>\n",
       "      <td>7.0</td>\n",
       "      <td>24.0</td>\n",
       "      <td>38.0</td>\n",
       "      <td>39.0</td>\n",
       "      <td>14.0</td>\n",
       "      <td>3449.0</td>\n",
       "      <td>835.0</td>\n",
       "      <td>69.0</td>\n",
       "      <td>321.0</td>\n",
       "      <td>414.0</td>\n",
       "      <td>375.0</td>\n",
       "      <td>632.0</td>\n",
       "      <td>43.0</td>\n",
       "      <td>10.0</td>\n",
       "      <td>1</td>\n",
       "      <td>1</td>\n",
       "      <td>1</td>\n",
       "    </tr>\n",
       "    <tr>\n",
       "      <th>2</th>\n",
       "      <td>479.0</td>\n",
       "      <td>130.0</td>\n",
       "      <td>18.0</td>\n",
       "      <td>66.0</td>\n",
       "      <td>72.0</td>\n",
       "      <td>76.0</td>\n",
       "      <td>3.0</td>\n",
       "      <td>1624.0</td>\n",
       "      <td>457.0</td>\n",
       "      <td>63.0</td>\n",
       "      <td>224.0</td>\n",
       "      <td>266.0</td>\n",
       "      <td>263.0</td>\n",
       "      <td>880.0</td>\n",
       "      <td>82.0</td>\n",
       "      <td>14.0</td>\n",
       "      <td>0</td>\n",
       "      <td>1</td>\n",
       "      <td>0</td>\n",
       "    </tr>\n",
       "    <tr>\n",
       "      <th>3</th>\n",
       "      <td>496.0</td>\n",
       "      <td>141.0</td>\n",
       "      <td>20.0</td>\n",
       "      <td>65.0</td>\n",
       "      <td>78.0</td>\n",
       "      <td>37.0</td>\n",
       "      <td>11.0</td>\n",
       "      <td>5628.0</td>\n",
       "      <td>1575.0</td>\n",
       "      <td>225.0</td>\n",
       "      <td>828.0</td>\n",
       "      <td>838.0</td>\n",
       "      <td>354.0</td>\n",
       "      <td>200.0</td>\n",
       "      <td>11.0</td>\n",
       "      <td>3.0</td>\n",
       "      <td>1</td>\n",
       "      <td>0</td>\n",
       "      <td>1</td>\n",
       "    </tr>\n",
       "    <tr>\n",
       "      <th>4</th>\n",
       "      <td>321.0</td>\n",
       "      <td>87.0</td>\n",
       "      <td>10.0</td>\n",
       "      <td>39.0</td>\n",
       "      <td>42.0</td>\n",
       "      <td>30.0</td>\n",
       "      <td>2.0</td>\n",
       "      <td>396.0</td>\n",
       "      <td>101.0</td>\n",
       "      <td>12.0</td>\n",
       "      <td>48.0</td>\n",
       "      <td>46.0</td>\n",
       "      <td>33.0</td>\n",
       "      <td>805.0</td>\n",
       "      <td>40.0</td>\n",
       "      <td>4.0</td>\n",
       "      <td>1</td>\n",
       "      <td>0</td>\n",
       "      <td>1</td>\n",
       "    </tr>\n",
       "    <tr>\n",
       "      <th>5</th>\n",
       "      <td>594.0</td>\n",
       "      <td>169.0</td>\n",
       "      <td>4.0</td>\n",
       "      <td>74.0</td>\n",
       "      <td>51.0</td>\n",
       "      <td>35.0</td>\n",
       "      <td>11.0</td>\n",
       "      <td>4408.0</td>\n",
       "      <td>1133.0</td>\n",
       "      <td>19.0</td>\n",
       "      <td>501.0</td>\n",
       "      <td>336.0</td>\n",
       "      <td>194.0</td>\n",
       "      <td>282.0</td>\n",
       "      <td>421.0</td>\n",
       "      <td>25.0</td>\n",
       "      <td>0</td>\n",
       "      <td>1</td>\n",
       "      <td>0</td>\n",
       "    </tr>\n",
       "  </tbody>\n",
       "</table>\n",
       "</div>"
      ],
      "text/plain": [
       "   AtBat   Hits  HmRun  Runs   RBI  Walks  Years  CAtBat   CHits  CHmRun  \\\n",
       "1  315.0   81.0    7.0  24.0  38.0   39.0   14.0  3449.0   835.0    69.0   \n",
       "2  479.0  130.0   18.0  66.0  72.0   76.0    3.0  1624.0   457.0    63.0   \n",
       "3  496.0  141.0   20.0  65.0  78.0   37.0   11.0  5628.0  1575.0   225.0   \n",
       "4  321.0   87.0   10.0  39.0  42.0   30.0    2.0   396.0   101.0    12.0   \n",
       "5  594.0  169.0    4.0  74.0  51.0   35.0   11.0  4408.0  1133.0    19.0   \n",
       "\n",
       "   CRuns   CRBI  CWalks  PutOuts  Assists  Errors  League_N  Division_W  \\\n",
       "1  321.0  414.0   375.0    632.0     43.0    10.0         1           1   \n",
       "2  224.0  266.0   263.0    880.0     82.0    14.0         0           1   \n",
       "3  828.0  838.0   354.0    200.0     11.0     3.0         1           0   \n",
       "4   48.0   46.0    33.0    805.0     40.0     4.0         1           0   \n",
       "5  501.0  336.0   194.0    282.0    421.0    25.0         0           1   \n",
       "\n",
       "   NewLeague_N  \n",
       "1            1  \n",
       "2            0  \n",
       "3            1  \n",
       "4            1  \n",
       "5            0  "
      ]
     },
     "execution_count": 15,
     "metadata": {},
     "output_type": "execute_result"
    }
   ],
   "source": [
    "# Drop any rows the contain missing values, along with the player names\n",
    "df = df.dropna().drop('Unnamed: 0', axis=1)\n",
    "\n",
    "# Get dummy variables\n",
    "dummies = pd.get_dummies(df[['League', 'Division', 'NewLeague']])\n",
    "\n",
    "# Extract independent variable\n",
    "y = pd.DataFrame(df.Salary)\n",
    "\n",
    "# Drop the column with the independent variable (Salary), and columns for which we created dummy variables\n",
    "X_ = df.drop(['Salary', 'League', 'Division', 'NewLeague'], axis=1).astype('float64')\n",
    "\n",
    "# Define the feature set X.\n",
    "X = pd.concat([X_, dummies[['League_N', 'Division_W', 'NewLeague_N']]], axis=1)\n",
    "\n",
    "X.head()"
   ]
  },
  {
   "cell_type": "markdown",
   "metadata": {},
   "source": [
    "In order for the validation set approach to yield accurate estimates of the test\n",
    "error, we must use *only the training observations* to perform all aspects of\n",
    "model-fitting — including variable selection. Therefore, the determination of\n",
    "which model of a given size is best must be made using *only the training\n",
    "observations*. This point is subtle but important. If the full data set is used\n",
    "to perform the best subset selection step, the validation set errors and\n",
    "cross-validation errors that we obtain will not be accurate estimates of the\n",
    "test error.\n",
    "\n",
    "In order to use the validation set approach, we begin by splitting the\n",
    "observations into a training set and a test set. We do this by creating\n",
    "a random vector, train, of elements equal to TRUE if the corresponding\n",
    "observation is in the training set, and FALSE otherwise. The vector test has\n",
    "a TRUE if the observation is in the test set, and a FALSE otherwise. Note the\n",
    "`np.invert()` in the command to create test causes TRUEs to be switched to FALSEs and\n",
    "vice versa. We also set a random seed so that the user will obtain the same\n",
    "training set/test set split."
   ]
  },
  {
   "cell_type": "code",
   "execution_count": 16,
   "metadata": {
    "ExecuteTime": {
     "end_time": "2021-05-03T01:32:08.823963Z",
     "start_time": "2021-05-03T01:32:08.811887Z"
    }
   },
   "outputs": [],
   "source": [
    "np.random.seed(seed=12)\n",
    "train = np.random.choice([True, False], size = len(y), replace = True)\n",
    "test = np.invert(train)"
   ]
  },
  {
   "cell_type": "markdown",
   "metadata": {},
   "source": [
    "We'll define our helper function to outputs the best set of variables for each model size like we did in Lab 8. Note that we'll need to modify this to take in both test and training sets, because we want the returned error to be the **test** error:"
   ]
  },
  {
   "cell_type": "code",
   "execution_count": 17,
   "metadata": {
    "ExecuteTime": {
     "end_time": "2021-05-03T01:32:44.478779Z",
     "start_time": "2021-05-03T01:32:44.475228Z"
    }
   },
   "outputs": [],
   "source": [
    "def processSubset(feature_set, X_train, y_train, X_test, y_test):\n",
    "    # Fit model on feature_set and calculate RSS\n",
    "    model = sm.OLS(y_train,X_train[list(feature_set)])\n",
    "    regr = model.fit()\n",
    "    RSS = ((regr.predict(X_test[list(feature_set)]) - y_test) ** 2).sum()\n",
    "    return {\"model\":regr, \"RSS\":RSS}"
   ]
  },
  {
   "cell_type": "markdown",
   "metadata": {},
   "source": [
    "And our function to perform forward selection:"
   ]
  },
  {
   "cell_type": "code",
   "execution_count": 18,
   "metadata": {
    "ExecuteTime": {
     "end_time": "2021-05-03T01:32:52.402242Z",
     "start_time": "2021-05-03T01:32:52.398368Z"
    }
   },
   "outputs": [],
   "source": [
    "def forward(predictors, X_train, y_train, X_test, y_test):\n",
    "    \n",
    "    results = []\n",
    "\n",
    "    # Pull out predictors we still need to process\n",
    "    remaining_predictors = [p for p in X_train.columns if p not in predictors]\n",
    "    \n",
    "    for p in remaining_predictors:\n",
    "        results.append(processSubset(predictors+[p], X_train, y_train, X_test, y_test))\n",
    "    \n",
    "    # Wrap everything up in a nice dataframe\n",
    "    models = pd.DataFrame(results)\n",
    "    \n",
    "    # Choose the model with the highest RSS\n",
    "    best_model = models.loc[models['RSS'].argmin()]\n",
    "        \n",
    "    # Return the best model, along with some other useful information about the model\n",
    "    return best_model"
   ]
  },
  {
   "cell_type": "markdown",
   "metadata": {},
   "source": [
    "Now, we'll call our `forward()` function on the training set in order to perform forward selection for all model sizes:"
   ]
  },
  {
   "cell_type": "code",
   "execution_count": 19,
   "metadata": {
    "ExecuteTime": {
     "end_time": "2021-05-03T01:33:00.864948Z",
     "start_time": "2021-05-03T01:33:00.412799Z"
    }
   },
   "outputs": [],
   "source": [
    "models_train = pd.DataFrame(columns=[\"RSS\", \"model\"])\n",
    "\n",
    "predictors = []\n",
    "\n",
    "for i in range(1,len(X.columns)+1):    \n",
    "    models_train.loc[i] = forward(predictors, X[train], y[train][\"Salary\"], X[test], y[test][\"Salary\"])\n",
    "    predictors = models_train.loc[i][\"model\"].model.exog_names"
   ]
  },
  {
   "cell_type": "markdown",
   "metadata": {
    "collapsed": true
   },
   "source": [
    "Now let's plot the errors, and find the model that minimizes it:"
   ]
  },
  {
   "cell_type": "code",
   "execution_count": 20,
   "metadata": {
    "ExecuteTime": {
     "end_time": "2021-05-03T01:33:02.326699Z",
     "start_time": "2021-05-03T01:33:02.173903Z"
    }
   },
   "outputs": [
    {
     "data": {
      "text/plain": [
       "[<matplotlib.lines.Line2D at 0x7fcedc2243a0>]"
      ]
     },
     "execution_count": 20,
     "metadata": {},
     "output_type": "execute_result"
    },
    {
     "data": {
      "image/png": "[encoded data removed]",
      "text/plain": [
       "<Figure size 432x288 with 1 Axes>"
      ]
     },
     "metadata": {
      "needs_background": "light"
     },
     "output_type": "display_data"
    }
   ],
   "source": [
    "plt.plot(models_train[\"RSS\"])\n",
    "plt.xlabel('# Predictors')\n",
    "plt.ylabel('RSS')\n",
    "plt.plot(models_train[\"RSS\"].argmin(), models_train[\"RSS\"].min(), \"or\")"
   ]
  },
  {
   "cell_type": "markdown",
   "metadata": {},
   "source": [
    "Viola! We find that the best model (according to the validation set approach) is the one that contains 10 predictors.\n",
    "\n",
    "Now that we know what we're looking for, let's perform best subset selection on the full dataset and select the best 10-predictor model. It is important that we make use of the *full\n",
    "data set* in order to obtain more accurate coefficient estimates. We perform this selection on the *full data set* and select the best 10-predictor\n",
    "model, rather than simply using the predictors that we obtained\n",
    "from the training set, because the best 10-predictor model on the full data\n",
    "set may differ from the corresponding model on the training set."
   ]
  },
  {
   "cell_type": "code",
   "execution_count": 21,
   "metadata": {
    "ExecuteTime": {
     "end_time": "2021-05-03T01:33:17.963464Z",
     "start_time": "2021-05-03T01:33:17.637579Z"
    }
   },
   "outputs": [],
   "source": [
    "models_test = pd.DataFrame(columns=[\"RSS\", \"model\"])\n",
    "\n",
    "predictors = []\n",
    "\n",
    "for i in range(1,11):    \n",
    "    models_test.loc[i] = forward(predictors, X[test], y[test][\"Salary\"], X[test], y[test][\"Salary\"])\n",
    "    predictors = models_test.loc[i][\"model\"].model.exog_names"
   ]
  },
  {
   "cell_type": "markdown",
   "metadata": {},
   "source": [
    "In fact, we see that the best ten-variable model on the full data set has a\n",
    "**different set of predictors** than the best ten-variable model on the training\n",
    "set:"
   ]
  },
  {
   "cell_type": "code",
   "execution_count": 22,
   "metadata": {
    "ExecuteTime": {
     "end_time": "2021-05-03T01:33:18.793660Z",
     "start_time": "2021-05-03T01:33:18.780121Z"
    }
   },
   "outputs": [
    {
     "name": "stdout",
     "output_type": "stream",
     "text": [
      "['Walks', 'CRBI', 'Hits', 'Division_W', 'CWalks', 'CRuns', 'AtBat', 'League_N', 'CHits', 'Runs']\n",
      "['Walks', 'CRBI', 'Assists', 'Division_W', 'CWalks', 'CRuns', 'PutOuts', 'Errors', 'League_N', 'CHmRun']\n"
     ]
    }
   ],
   "source": [
    "print(models_train.loc[10, \"model\"].model.exog_names)\n",
    "print(models_test.loc[10, \"model\"].model.exog_names)"
   ]
  },
  {
   "cell_type": "markdown",
   "metadata": {},
   "source": [
    "# Model selection using Cross-Validation\n",
    "\n",
    "Now let's try to choose among the models of different sizes using cross-validation.\n",
    "This approach is somewhat involved, as we must perform forward selection within each of the $k$ training sets. Despite this, we see that\n",
    "with its clever subsetting syntax, `python` makes this job quite easy. First, we\n",
    "create a vector that assigns each observation to one of $k = 10$ folds, and\n",
    "we create a DataFrame in which we will store the results:"
   ]
  },
  {
   "cell_type": "code",
   "execution_count": 23,
   "metadata": {
    "ExecuteTime": {
     "end_time": "2021-05-03T01:35:31.868777Z",
     "start_time": "2021-05-03T01:35:31.856030Z"
    }
   },
   "outputs": [],
   "source": [
    "k = 10        # number of folds\n",
    "np.random.seed(seed=1)\n",
    "folds = np.random.choice(k, size = len(y), replace = True)\n",
    "\n",
    "# Create a DataFrame to store the results of our upcoming calculations\n",
    "cv_errors = pd.DataFrame(columns=range(1,k+1), index=range(1,20))\n",
    "cv_errors = cv_errors.fillna(0)"
   ]
  },
  {
   "cell_type": "markdown",
   "metadata": {
    "collapsed": true
   },
   "source": [
    "Now let's write a for loop that performs cross-validation. In the $j^{th}$ fold, the\n",
    "elements of folds that equal $j$ are in the test set, and the remainder are in\n",
    "the training set. We make our predictions for each model size, compute the test errors on the appropriate subset,\n",
    "and store them in the appropriate slot in the matrix `cv.errors`."
   ]
  },
  {
   "cell_type": "code",
   "execution_count": 24,
   "metadata": {
    "ExecuteTime": {
     "end_time": "2021-05-03T01:35:40.461521Z",
     "start_time": "2021-05-03T01:35:36.846804Z"
    }
   },
   "outputs": [],
   "source": [
    "models_cv = pd.DataFrame(columns=[\"RSS\", \"model\"])\n",
    "    \n",
    "# Outer loop iterates over all folds\n",
    "for j in range(1,k+1):\n",
    "\n",
    "    # Reset predictors\n",
    "    predictors = []\n",
    "    \n",
    "    # Inner loop iterates over each size i\n",
    "    for i in range(1,len(X.columns)+1):    \n",
    "    \n",
    "        # The perform forward selection on the full dataset minus the jth fold, test on jth fold\n",
    "        models_cv.loc[i] = forward(predictors, X[folds != (j-1)], y[folds != (j-1)][\"Salary\"], X[folds == (j-1)], y[folds == (j-1)][\"Salary\"])\n",
    "        \n",
    "        # Save the cross-validated error for this fold\n",
    "        cv_errors[j][i] = models_cv.loc[i][\"RSS\"]\n",
    "\n",
    "        # Extract the predictors\n",
    "        predictors = models_cv.loc[i][\"model\"].model.exog_names\n",
    "        "
   ]
  },
  {
   "cell_type": "code",
   "execution_count": 25,
   "metadata": {
    "ExecuteTime": {
     "end_time": "2021-05-03T01:35:47.061688Z",
     "start_time": "2021-05-03T01:35:47.051535Z"
    }
   },
   "outputs": [
    {
     "data": {
      "text/html": [
       "<div>\n",
       "<style scoped>\n",
       "    .dataframe tbody tr th:only-of-type {\n",
       "        vertical-align: middle;\n",
       "    }\n",
       "\n",
       "    .dataframe tbody tr th {\n",
       "        vertical-align: top;\n",
       "    }\n",
       "\n",
       "    .dataframe thead th {\n",
       "        text-align: right;\n",
       "    }\n",
       "</style>\n",
       "<table border=\"1\" class=\"dataframe\">\n",
       "  <thead>\n",
       "    <tr style=\"text-align: right;\">\n",
       "      <th></th>\n",
       "      <th>1</th>\n",
       "      <th>2</th>\n",
       "      <th>3</th>\n",
       "      <th>4</th>\n",
       "      <th>5</th>\n",
       "      <th>6</th>\n",
       "      <th>7</th>\n",
       "      <th>8</th>\n",
       "      <th>9</th>\n",
       "      <th>10</th>\n",
       "    </tr>\n",
       "  </thead>\n",
       "  <tbody>\n",
       "    <tr>\n",
       "      <th>1</th>\n",
       "      <td>3107900</td>\n",
       "      <td>3212304</td>\n",
       "      <td>4840103</td>\n",
       "      <td>2475453</td>\n",
       "      <td>3750302</td>\n",
       "      <td>1551976</td>\n",
       "      <td>1827366</td>\n",
       "      <td>9115194</td>\n",
       "      <td>1370720</td>\n",
       "      <td>2204862</td>\n",
       "    </tr>\n",
       "    <tr>\n",
       "      <th>2</th>\n",
       "      <td>2354036</td>\n",
       "      <td>2247881</td>\n",
       "      <td>3414444</td>\n",
       "      <td>1642455</td>\n",
       "      <td>3160950</td>\n",
       "      <td>1250564</td>\n",
       "      <td>1567469</td>\n",
       "      <td>8520751</td>\n",
       "      <td>1081052</td>\n",
       "      <td>1856304</td>\n",
       "    </tr>\n",
       "    <tr>\n",
       "      <th>3</th>\n",
       "      <td>2148733</td>\n",
       "      <td>2012864</td>\n",
       "      <td>3009435</td>\n",
       "      <td>1566581</td>\n",
       "      <td>2775618</td>\n",
       "      <td>907304</td>\n",
       "      <td>1260460</td>\n",
       "      <td>8456576</td>\n",
       "      <td>969784</td>\n",
       "      <td>1674333</td>\n",
       "    </tr>\n",
       "    <tr>\n",
       "      <th>4</th>\n",
       "      <td>1946031</td>\n",
       "      <td>1870511</td>\n",
       "      <td>2630784</td>\n",
       "      <td>1521525</td>\n",
       "      <td>2618750</td>\n",
       "      <td>805135</td>\n",
       "      <td>1143882</td>\n",
       "      <td>8331746</td>\n",
       "      <td>857553</td>\n",
       "      <td>1618265</td>\n",
       "    </tr>\n",
       "    <tr>\n",
       "      <th>5</th>\n",
       "      <td>1850398</td>\n",
       "      <td>1605148</td>\n",
       "      <td>2537690</td>\n",
       "      <td>1502728</td>\n",
       "      <td>2608466</td>\n",
       "      <td>776171</td>\n",
       "      <td>1124174</td>\n",
       "      <td>8221957</td>\n",
       "      <td>793919</td>\n",
       "      <td>1574253</td>\n",
       "    </tr>\n",
       "    <tr>\n",
       "      <th>6</th>\n",
       "      <td>1778324</td>\n",
       "      <td>1574266</td>\n",
       "      <td>2498621</td>\n",
       "      <td>1482575</td>\n",
       "      <td>2632055</td>\n",
       "      <td>776163</td>\n",
       "      <td>1115741</td>\n",
       "      <td>8196969</td>\n",
       "      <td>781235</td>\n",
       "      <td>1534220</td>\n",
       "    </tr>\n",
       "    <tr>\n",
       "      <th>7</th>\n",
       "      <td>1761111</td>\n",
       "      <td>1524413</td>\n",
       "      <td>2452303</td>\n",
       "      <td>1480345</td>\n",
       "      <td>2661104</td>\n",
       "      <td>779716</td>\n",
       "      <td>1104388</td>\n",
       "      <td>8171959</td>\n",
       "      <td>776457</td>\n",
       "      <td>1503831</td>\n",
       "    </tr>\n",
       "    <tr>\n",
       "      <th>8</th>\n",
       "      <td>1733230</td>\n",
       "      <td>1529625</td>\n",
       "      <td>2418943</td>\n",
       "      <td>1477510</td>\n",
       "      <td>2660654</td>\n",
       "      <td>803859</td>\n",
       "      <td>1100753</td>\n",
       "      <td>7449396</td>\n",
       "      <td>774589</td>\n",
       "      <td>1536790</td>\n",
       "    </tr>\n",
       "    <tr>\n",
       "      <th>9</th>\n",
       "      <td>1773705</td>\n",
       "      <td>1607919</td>\n",
       "      <td>2381843</td>\n",
       "      <td>1504519</td>\n",
       "      <td>2677002</td>\n",
       "      <td>821629</td>\n",
       "      <td>1096925</td>\n",
       "      <td>7136283</td>\n",
       "      <td>774616</td>\n",
       "      <td>1542746</td>\n",
       "    </tr>\n",
       "    <tr>\n",
       "      <th>10</th>\n",
       "      <td>1865909</td>\n",
       "      <td>1682293</td>\n",
       "      <td>2378624</td>\n",
       "      <td>1528102</td>\n",
       "      <td>2597881</td>\n",
       "      <td>854997</td>\n",
       "      <td>1136162</td>\n",
       "      <td>7059485</td>\n",
       "      <td>775993</td>\n",
       "      <td>1597314</td>\n",
       "    </tr>\n",
       "    <tr>\n",
       "      <th>11</th>\n",
       "      <td>2001187</td>\n",
       "      <td>1972309</td>\n",
       "      <td>2377337</td>\n",
       "      <td>1540347</td>\n",
       "      <td>2659206</td>\n",
       "      <td>866399</td>\n",
       "      <td>1150317</td>\n",
       "      <td>7047911</td>\n",
       "      <td>705031</td>\n",
       "      <td>1751416</td>\n",
       "    </tr>\n",
       "    <tr>\n",
       "      <th>12</th>\n",
       "      <td>2183874</td>\n",
       "      <td>2120447</td>\n",
       "      <td>2376437</td>\n",
       "      <td>1583554</td>\n",
       "      <td>2727452</td>\n",
       "      <td>980350</td>\n",
       "      <td>1114814</td>\n",
       "      <td>7056950</td>\n",
       "      <td>687640</td>\n",
       "      <td>1945971</td>\n",
       "    </tr>\n",
       "    <tr>\n",
       "      <th>13</th>\n",
       "      <td>2337672</td>\n",
       "      <td>2333119</td>\n",
       "      <td>2398381</td>\n",
       "      <td>1729660</td>\n",
       "      <td>2772831</td>\n",
       "      <td>1039253</td>\n",
       "      <td>1104974</td>\n",
       "      <td>7117616</td>\n",
       "      <td>699082</td>\n",
       "      <td>1857369</td>\n",
       "    </tr>\n",
       "    <tr>\n",
       "      <th>14</th>\n",
       "      <td>2398776</td>\n",
       "      <td>2556735</td>\n",
       "      <td>2426684</td>\n",
       "      <td>1788102</td>\n",
       "      <td>2804067</td>\n",
       "      <td>993013</td>\n",
       "      <td>1142143</td>\n",
       "      <td>7469678</td>\n",
       "      <td>743080</td>\n",
       "      <td>1884753</td>\n",
       "    </tr>\n",
       "    <tr>\n",
       "      <th>15</th>\n",
       "      <td>1971720</td>\n",
       "      <td>2519254</td>\n",
       "      <td>2421747</td>\n",
       "      <td>1750523</td>\n",
       "      <td>3054990</td>\n",
       "      <td>1033770</td>\n",
       "      <td>1204091</td>\n",
       "      <td>7439538</td>\n",
       "      <td>763736</td>\n",
       "      <td>1980209</td>\n",
       "    </tr>\n",
       "    <tr>\n",
       "      <th>16</th>\n",
       "      <td>1948823</td>\n",
       "      <td>2774368</td>\n",
       "      <td>2454268</td>\n",
       "      <td>1820562</td>\n",
       "      <td>3226325</td>\n",
       "      <td>1080503</td>\n",
       "      <td>1326684</td>\n",
       "      <td>7616005</td>\n",
       "      <td>824465</td>\n",
       "      <td>1949936</td>\n",
       "    </tr>\n",
       "    <tr>\n",
       "      <th>17</th>\n",
       "      <td>2030731</td>\n",
       "      <td>2884961</td>\n",
       "      <td>2644840</td>\n",
       "      <td>1906939</td>\n",
       "      <td>3342739</td>\n",
       "      <td>1105981</td>\n",
       "      <td>1324450</td>\n",
       "      <td>7637693</td>\n",
       "      <td>879744</td>\n",
       "      <td>2045321</td>\n",
       "    </tr>\n",
       "    <tr>\n",
       "      <th>18</th>\n",
       "      <td>2199928</td>\n",
       "      <td>3027921</td>\n",
       "      <td>2787490</td>\n",
       "      <td>2016598</td>\n",
       "      <td>4336091</td>\n",
       "      <td>1181122</td>\n",
       "      <td>1421665</td>\n",
       "      <td>7770971</td>\n",
       "      <td>909756</td>\n",
       "      <td>2062251</td>\n",
       "    </tr>\n",
       "    <tr>\n",
       "      <th>19</th>\n",
       "      <td>2601547</td>\n",
       "      <td>3389497</td>\n",
       "      <td>3137982</td>\n",
       "      <td>2412422</td>\n",
       "      <td>4918740</td>\n",
       "      <td>1706786</td>\n",
       "      <td>1582120</td>\n",
       "      <td>7933249</td>\n",
       "      <td>1202840</td>\n",
       "      <td>2066104</td>\n",
       "    </tr>\n",
       "  </tbody>\n",
       "</table>\n",
       "</div>"
      ],
      "text/plain": [
       "         1        2        3        4        5        6        7        8   \\\n",
       "1   3107900  3212304  4840103  2475453  3750302  1551976  1827366  9115194   \n",
       "2   2354036  2247881  3414444  1642455  3160950  1250564  1567469  8520751   \n",
       "3   2148733  2012864  3009435  1566581  2775618   907304  1260460  8456576   \n",
       "4   1946031  1870511  2630784  1521525  2618750   805135  1143882  8331746   \n",
       "5   1850398  1605148  2537690  1502728  2608466   776171  1124174  8221957   \n",
       "6   1778324  1574266  2498621  1482575  2632055   776163  1115741  8196969   \n",
       "7   1761111  1524413  2452303  1480345  2661104   779716  1104388  8171959   \n",
       "8   1733230  1529625  2418943  1477510  2660654   803859  1100753  7449396   \n",
       "9   1773705  1607919  2381843  1504519  2677002   821629  1096925  7136283   \n",
       "10  1865909  1682293  2378624  1528102  2597881   854997  1136162  7059485   \n",
       "11  2001187  1972309  2377337  1540347  2659206   866399  1150317  7047911   \n",
       "12  2183874  2120447  2376437  1583554  2727452   980350  1114814  7056950   \n",
       "13  2337672  2333119  2398381  1729660  2772831  1039253  1104974  7117616   \n",
       "14  2398776  2556735  2426684  1788102  2804067   993013  1142143  7469678   \n",
       "15  1971720  2519254  2421747  1750523  3054990  1033770  1204091  7439538   \n",
       "16  1948823  2774368  2454268  1820562  3226325  1080503  1326684  7616005   \n",
       "17  2030731  2884961  2644840  1906939  3342739  1105981  1324450  7637693   \n",
       "18  2199928  3027921  2787490  2016598  4336091  1181122  1421665  7770971   \n",
       "19  2601547  3389497  3137982  2412422  4918740  1706786  1582120  7933249   \n",
       "\n",
       "         9        10  \n",
       "1   1370720  2204862  \n",
       "2   1081052  1856304  \n",
       "3    969784  1674333  \n",
       "4    857553  1618265  \n",
       "5    793919  1574253  \n",
       "6    781235  1534220  \n",
       "7    776457  1503831  \n",
       "8    774589  1536790  \n",
       "9    774616  1542746  \n",
       "10   775993  1597314  \n",
       "11   705031  1751416  \n",
       "12   687640  1945971  \n",
       "13   699082  1857369  \n",
       "14   743080  1884753  \n",
       "15   763736  1980209  \n",
       "16   824465  1949936  \n",
       "17   879744  2045321  \n",
       "18   909756  2062251  \n",
       "19  1202840  2066104  "
      ]
     },
     "execution_count": 25,
     "metadata": {},
     "output_type": "execute_result"
    }
   ],
   "source": [
    "cv_errors"
   ]
  },
  {
   "cell_type": "markdown",
   "metadata": {
    "collapsed": true
   },
   "source": [
    "This has filled up the `cv_errors` DataFrame such that the $(i,j)^{th}$ element corresponds\n",
    "to the test MSE for the $i^{th}$ cross-validation fold for the best $j$-variable\n",
    "model.  We can then use the `apply()` function to take the `mean` over the columns of this\n",
    "matrix. This will give us a vector for which the $j^{th}$ element is the cross-validation\n",
    "error for the $j$-variable model."
   ]
  },
  {
   "cell_type": "code",
   "execution_count": 26,
   "metadata": {
    "ExecuteTime": {
     "end_time": "2021-05-03T01:36:06.185532Z",
     "start_time": "2021-05-03T01:36:06.057918Z"
    }
   },
   "outputs": [
    {
     "data": {
      "text/plain": [
       "[<matplotlib.lines.Line2D at 0x7fcedd2a7040>]"
      ]
     },
     "execution_count": 26,
     "metadata": {},
     "output_type": "execute_result"
    },
    {
     "data": {
      "image/png": "[encoded data removed]",
      "text/plain": [
       "<Figure size 432x288 with 1 Axes>"
      ]
     },
     "metadata": {
      "needs_background": "light"
     },
     "output_type": "display_data"
    }
   ],
   "source": [
    "cv_mean = cv_errors.apply(np.mean, axis=1)\n",
    "\n",
    "plt.plot(cv_mean)\n",
    "plt.xlabel('# Predictors')\n",
    "plt.ylabel('CV Error')\n",
    "plt.plot(cv_mean.argmin(), cv_mean.min(), \"or\")"
   ]
  },
  {
   "cell_type": "markdown",
   "metadata": {},
   "source": [
    "We see that cross-validation selects a 9-predictor model. Now let's go back to our results on the full data set in order to obtain the 9-predictor model."
   ]
  },
  {
   "cell_type": "code",
   "execution_count": 27,
   "metadata": {
    "ExecuteTime": {
     "end_time": "2021-05-03T01:36:41.091268Z",
     "start_time": "2021-05-03T01:36:41.075201Z"
    }
   },
   "outputs": [
    {
     "name": "stdout",
     "output_type": "stream",
     "text": [
      "                                 OLS Regression Results                                \n",
      "=======================================================================================\n",
      "Dep. Variable:                 Salary   R-squared (uncentered):                   0.685\n",
      "Model:                            OLS   Adj. R-squared (uncentered):              0.672\n",
      "Method:                 Least Squares   F-statistic:                              54.56\n",
      "Date:                Sun, 02 May 2021   Prob (F-statistic):                    8.32e-52\n",
      "Time:                        21:36:41   Log-Likelihood:                         -1737.9\n",
      "No. Observations:                 235   AIC:                                      3494.\n",
      "Df Residuals:                     226   BIC:                                      3525.\n",
      "Df Model:                           9                                                  \n",
      "Covariance Type:            nonrobust                                                  \n",
      "==============================================================================\n",
      "                 coef    std err          t      P>|t|      [0.025      0.975]\n",
      "------------------------------------------------------------------------------\n",
      "Hits           5.1036      2.325      2.195      0.029       0.522       9.686\n",
      "PutOuts        0.2727      0.101      2.692      0.008       0.073       0.472\n",
      "Division_W   -88.1122     50.742     -1.736      0.084    -188.101      11.876\n",
      "HmRun         -0.8294      6.640     -0.125      0.901     -13.913      12.254\n",
      "AtBat         -0.7780      0.667     -1.166      0.245      -2.093       0.537\n",
      "League_N     103.4130     51.270      2.017      0.045       2.384     204.442\n",
      "RBI            5.3063      3.007      1.764      0.079      -0.620      11.232\n",
      "Assists        0.1477      0.281      0.525      0.600      -0.406       0.702\n",
      "Errors        -9.2617      5.660     -1.636      0.103     -20.415       1.892\n",
      "==============================================================================\n",
      "Omnibus:                       62.044   Durbin-Watson:                   1.995\n",
      "Prob(Omnibus):                  0.000   Jarque-Bera (JB):              182.556\n",
      "Skew:                           1.123   Prob(JB):                     2.28e-40\n",
      "Kurtosis:                       6.687   Cond. No.                     1.19e+03\n",
      "==============================================================================\n",
      "\n",
      "Notes:\n",
      "[1] R² is computed without centering (uncentered) since the model does not contain a constant.\n",
      "[2] Standard Errors assume that the covariance matrix of the errors is correctly specified.\n",
      "[3] The condition number is large, 1.19e+03. This might indicate that there are\n",
      "strong multicollinearity or other numerical problems.\n"
     ]
    }
   ],
   "source": [
    "print(models_cv.loc[9, \"model\"].summary())"
   ]
  },
  {
   "cell_type": "markdown",
   "metadata": {},
   "source": [
    "For comparison, let's also take a look at the statistics from last lab:"
   ]
  },
  {
   "cell_type": "code",
   "execution_count": 28,
   "metadata": {
    "ExecuteTime": {
     "end_time": "2021-05-03T01:37:10.144852Z",
     "start_time": "2021-05-03T01:37:09.744218Z"
    }
   },
   "outputs": [
    {
     "data": {
      "text/plain": [
       "Text(0, 0.5, 'BIC')"
      ]
     },
     "execution_count": 28,
     "metadata": {},
     "output_type": "execute_result"
    },
    {
     "data": {
      "image/png": "[encoded data removed]",
      "text/plain": [
       "<Figure size 1440x720 with 4 Axes>"
      ]
     },
     "metadata": {
      "needs_background": "light"
     },
     "output_type": "display_data"
    }
   ],
   "source": [
    "plt.figure(figsize=(20,10))\n",
    "plt.rcParams.update({'font.size': 18, 'lines.markersize': 10})\n",
    "\n",
    "# Set up a 2x2 grid so we can look at 4 plots at once\n",
    "plt.subplot(2, 2, 1)\n",
    "\n",
    "# We will now plot a red dot to indicate the model with the largest adjusted R^2 statistic.\n",
    "# The argmax() function can be used to identify the location of the maximum point of a vector\n",
    "plt.plot(models_cv[\"RSS\"])\n",
    "plt.xlabel('# Predictors')\n",
    "plt.ylabel('RSS')\n",
    "\n",
    "# We will now plot a red dot to indicate the model with the largest adjusted R^2 statistic.\n",
    "# The argmax() function can be used to identify the location of the maximum point of a vector\n",
    "\n",
    "rsquared_adj = models_cv.apply(lambda row: row[1].rsquared_adj, axis=1)\n",
    "\n",
    "plt.subplot(2, 2, 2)\n",
    "plt.plot(rsquared_adj)\n",
    "plt.plot(rsquared_adj.argmax(), rsquared_adj.max(), \"or\")\n",
    "plt.xlabel('# Predictors')\n",
    "plt.ylabel('adjusted rsquared')\n",
    "\n",
    "# We'll do the same for AIC and BIC, this time looking for the models with the SMALLEST statistic\n",
    "aic = models_cv.apply(lambda row: row[1].aic, axis=1)\n",
    "\n",
    "plt.subplot(2, 2, 3)\n",
    "plt.plot(aic)\n",
    "plt.plot(aic.argmin(), aic.min(), \"or\")\n",
    "plt.xlabel('# Predictors')\n",
    "plt.ylabel('AIC')\n",
    "\n",
    "bic = models_cv.apply(lambda row: row[1].bic, axis=1)\n",
    "\n",
    "plt.subplot(2, 2, 4)\n",
    "plt.plot(bic)\n",
    "plt.plot(bic.argmin(), bic.min(), \"or\")\n",
    "plt.xlabel('# Predictors')\n",
    "plt.ylabel('BIC')"
   ]
  },
  {
   "cell_type": "markdown",
   "metadata": {},
   "source": [
    "Notice how some of the indicators are similar the cross-validated model, and others are very different?\n",
    "\n",
    "# Your turn!\n",
    "\n",
    "Now it's time to test out these approaches (best / forward / backward selection) and evaluation methods (adjusted training error, validation set, cross validation) on other datasets. You may want to work with a team on this portion of the lab.\n",
    "\n",
    "You may use any of the datasets included in `ISLR`, or choose one from the UCI machine learning repository (http://archive.ics.uci.edu/ml/datasets.html). Download a dataset, and try to determine the optimal set of parameters to use to model it!"
   ]
  },
  {
   "cell_type": "code",
   "execution_count": null,
   "metadata": {
    "collapsed": true
   },
   "outputs": [],
   "source": [
    "# Your code here"
   ]
  },
  {
   "cell_type": "markdown",
   "metadata": {},
   "source": [
    "To get credit for this lab, please post your answers to the following questions:\n",
    " - What dataset did you choose?\n",
    " - Which selection techniques did you try?\n",
    " - Which evaluation techniques did you try?\n",
    " - What did you determine was the best set of parameters to model this data?\n",
    " - How well did this model perform?\n",
    " \n",
    "to Moodle: https://moodle.smith.edu/mod/quiz/view.php?id=258534"
   ]
  }
 ],
 "metadata": {
  "anaconda-cloud": {},
  "kernelspec": {
   "display_name": "Python 3",
   "language": "python",
   "name": "python3"
  },
  "language_info": {
   "codemirror_mode": {
    "name": "ipython",
    "version": 3
   },
   "file_extension": ".py",
   "mimetype": "text/x-python",
   "name": "python",
   "nbconvert_exporter": "python",
   "pygments_lexer": "ipython3",
   "version": "3.8.5"
  }
 },
 "nbformat": 4,
 "nbformat_minor": 1
}
